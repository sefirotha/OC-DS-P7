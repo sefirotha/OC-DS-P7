{
 "cells": [
  {
   "cell_type": "markdown",
   "id": "46fb4765-a1de-4ca7-86aa-0519155489a9",
   "metadata": {},
   "source": [
    "# <a id='1'>0. Sommaire</a>"
   ]
  },
  {
   "cell_type": "code",
   "execution_count": 32,
   "id": "8369d4f0-73c9-4639-9aec-122c495aa1c0",
   "metadata": {},
   "outputs": [],
   "source": [
    "import os\n",
    "import pkg_resources\n",
    "import types\n",
    "from importlib import reload\n",
    "import pickle\n",
    "\n",
    "import numpy as np\n",
    "import pandas as pd\n",
    "\n",
    "import mlflow\n",
    "import dagshub\n",
    "import verstack\n",
    "import re\n",
    "from sklearn.metrics import fbeta_score\n",
    "from pycaret.classification import *\n",
    "import optuna\n",
    "import outils_model"
   ]
  },
  {
   "cell_type": "code",
   "execution_count": 2,
   "id": "effcac0e-71c3-4ed9-a31b-e1b3ed9b14e6",
   "metadata": {},
   "outputs": [
    {
     "name": "stdout",
     "output_type": "stream",
     "text": [
      "optuna==3.0.4\n",
      "verstack==3.7.1\n",
      "dagshub==0.2.14.post1\n",
      "mlflow==2.3.2\n",
      "numpy==1.23.5\n",
      "pandas==1.5.3\n",
      "pycaret==3.0.2\n"
     ]
    }
   ],
   "source": [
    "def get_imports():\n",
    "    for name, val in globals().items():\n",
    "        if isinstance(val, types.ModuleType):\n",
    "            # Split ensures you get root package, \n",
    "            # not just imported function\n",
    "            name = val.__name__.split(\".\")[0]\n",
    "\n",
    "        elif isinstance(val, type):\n",
    "            name = val.__module__.split(\".\")[0]\n",
    "            \n",
    "        # Some packages are weird and have different\n",
    "        # imported names vs. system/pip names. Unfortunately,\n",
    "        # there is no systematic way to get pip names from\n",
    "        # a package's imported name. You'll have to add\n",
    "        # exceptions to this list manually!\n",
    "        poorly_named_packages = {\n",
    "            \"PIL\": \"Pillow\",\n",
    "            \"sklearn\": \"scikit-learn\"\n",
    "        }\n",
    "        if name in poorly_named_packages.keys():\n",
    "            name = poorly_named_packages[name]\n",
    "            \n",
    "        yield name\n",
    "imports = list(set(get_imports()))\n",
    "\n",
    "# The only way I found to get the version of the root package\n",
    "# from only the name of the package is to cross-check the names \n",
    "# of installed packages vs. imported packages\n",
    "requirements = []\n",
    "for m in pkg_resources.working_set:\n",
    "    if m.project_name in imports and m.project_name!=\"pip\":\n",
    "        requirements.append((m.project_name, m.version))\n",
    "for r in requirements:\n",
    "    print(\"{}=={}\".format(*r))"
   ]
  },
  {
   "cell_type": "markdown",
   "id": "0f62f8fa-566d-44ec-b926-f6ac41cff5a5",
   "metadata": {},
   "source": [
    "# <a id='1'>2. Paramètres</a>"
   ]
  },
  {
   "cell_type": "code",
   "execution_count": 3,
   "id": "51aee939-1e01-42fc-9dc0-45d69b647834",
   "metadata": {},
   "outputs": [],
   "source": [
    "# os.environ[\"MLFLOW_TRACKING_USERNAME\"] = \"sefirotha/\"\n",
    "# os.environ['MLFLOW_TRACKING_PASSWORD'] = 'OC2023!'\n",
    "#os.environ['MLFLOW_TRACKING_URI'] = \"https://dagshub.com/sefirotha/OC-DS-P7\"\n",
    "# os.environ[\"PYCARET_CUSTOM_LOGGING_LEVEL\"] = \"CRITICAL\"\n",
    "# mlflow.set_tracking_uri(\"https://dagshub.com/sefirotha/OC-DS-P7.mlflow\")"
   ]
  },
  {
   "cell_type": "code",
   "execution_count": 5,
   "id": "f1547cd4-75d3-4fc9-a420-27961710c06a",
   "metadata": {},
   "outputs": [
    {
     "data": {
      "text/html": [
       "<pre style=\"white-space:pre;overflow-x:auto;line-height:normal;font-family:Menlo,'DejaVu Sans Mono',consolas,'Courier New',monospace\">Repository initialized!\n",
       "</pre>\n"
      ],
      "text/plain": [
       "Repository initialized!\n"
      ]
     },
     "metadata": {},
     "output_type": "display_data"
    },
    {
     "data": {
      "text/plain": [
       "<ActiveRun: >"
      ]
     },
     "execution_count": 5,
     "metadata": {},
     "output_type": "execute_result"
    }
   ],
   "source": [
    "dagshub.init(\"OC-DS-P7_mlflow\", \"sefirotha\", mlflow=True)\n",
    "mlflow.set_tracking_uri(\"https://dagshub.com/sefirotha/OC-DS-P7_mlflow.mlflow\")\n",
    "mlflow.start_run()"
   ]
  },
  {
   "cell_type": "markdown",
   "id": "3fc2e9a1-bbc1-4931-a043-65e53f369f13",
   "metadata": {},
   "source": [
    "# <a id='1'>3. Data</a>"
   ]
  },
  {
   "cell_type": "code",
   "execution_count": 6,
   "id": "46ab6267-ad84-4cbf-a3e5-6bc84c801909",
   "metadata": {},
   "outputs": [],
   "source": [
    "df = pd.read_pickle(r\"..\\Data\\Processed_data\\df_final_prot5.pkl\")"
   ]
  },
  {
   "cell_type": "code",
   "execution_count": 7,
   "id": "a3ba8c43-c248-4c94-be01-6850ba0675a6",
   "metadata": {},
   "outputs": [],
   "source": [
    "with open(r'..\\Data\\Processed_data\\var_cons_df.pickle', 'rb') as f:\n",
    "    features_to_keep = pickle.load(f)"
   ]
  },
  {
   "cell_type": "code",
   "execution_count": 8,
   "id": "0414dd4a-4a0d-4a31-a6c6-b42b8650a4b6",
   "metadata": {},
   "outputs": [],
   "source": [
    "features_to_keep = features_to_keep['variables'].to_list()"
   ]
  },
  {
   "cell_type": "code",
   "execution_count": 9,
   "id": "f9a5643a-3366-49b0-91bb-5b498b796872",
   "metadata": {},
   "outputs": [],
   "source": [
    "features_to_ignore = list(set(df.keys().to_list()) - set(features_to_keep))\n",
    "features_to_ignore.remove('TARGET')"
   ]
  },
  {
   "cell_type": "code",
   "execution_count": 10,
   "id": "a8327fd0-d4c6-49a7-9b04-8d42fd70e0b3",
   "metadata": {},
   "outputs": [],
   "source": [
    "train_df = df[df['TARGET'].notnull()]\n",
    "test_df = df[df['TARGET'].isnull()]"
   ]
  },
  {
   "cell_type": "markdown",
   "id": "c690217b-09c0-41f5-860b-8073de941081",
   "metadata": {},
   "source": [
    "# <a id='1'>4. Balancing</a>"
   ]
  },
  {
   "cell_type": "markdown",
   "id": "132186a7-334c-4af9-b7ba-98ed802371f8",
   "metadata": {},
   "source": [
    "## <a id='1'>4.1 SMOTE</a>"
   ]
  },
  {
   "cell_type": "code",
   "execution_count": 12,
   "id": "6a4707ba-77c9-4b51-8836-8da73e621f0e",
   "metadata": {},
   "outputs": [
    {
     "data": {
      "text/html": [
       "<style type=\"text/css\">\n",
       "#T_d2470_row9_col1, #T_d2470_row13_col1, #T_d2470_row15_col1 {\n",
       "  background-color: lightgreen;\n",
       "}\n",
       "</style>\n",
       "<table id=\"T_d2470\">\n",
       "  <thead>\n",
       "    <tr>\n",
       "      <th class=\"blank level0\" >&nbsp;</th>\n",
       "      <th id=\"T_d2470_level0_col0\" class=\"col_heading level0 col0\" >Description</th>\n",
       "      <th id=\"T_d2470_level0_col1\" class=\"col_heading level0 col1\" >Value</th>\n",
       "    </tr>\n",
       "  </thead>\n",
       "  <tbody>\n",
       "    <tr>\n",
       "      <th id=\"T_d2470_level0_row0\" class=\"row_heading level0 row0\" >0</th>\n",
       "      <td id=\"T_d2470_row0_col0\" class=\"data row0 col0\" >Session id</td>\n",
       "      <td id=\"T_d2470_row0_col1\" class=\"data row0 col1\" >42</td>\n",
       "    </tr>\n",
       "    <tr>\n",
       "      <th id=\"T_d2470_level0_row1\" class=\"row_heading level0 row1\" >1</th>\n",
       "      <td id=\"T_d2470_row1_col0\" class=\"data row1 col0\" >Target</td>\n",
       "      <td id=\"T_d2470_row1_col1\" class=\"data row1 col1\" >TARGET</td>\n",
       "    </tr>\n",
       "    <tr>\n",
       "      <th id=\"T_d2470_level0_row2\" class=\"row_heading level0 row2\" >2</th>\n",
       "      <td id=\"T_d2470_row2_col0\" class=\"data row2 col0\" >Target type</td>\n",
       "      <td id=\"T_d2470_row2_col1\" class=\"data row2 col1\" >Binary</td>\n",
       "    </tr>\n",
       "    <tr>\n",
       "      <th id=\"T_d2470_level0_row3\" class=\"row_heading level0 row3\" >3</th>\n",
       "      <td id=\"T_d2470_row3_col0\" class=\"data row3 col0\" >Original data shape</td>\n",
       "      <td id=\"T_d2470_row3_col1\" class=\"data row3 col1\" >(307507, 546)</td>\n",
       "    </tr>\n",
       "    <tr>\n",
       "      <th id=\"T_d2470_level0_row4\" class=\"row_heading level0 row4\" >4</th>\n",
       "      <td id=\"T_d2470_row4_col0\" class=\"data row4 col0\" >Transformed data shape</td>\n",
       "      <td id=\"T_d2470_row4_col1\" class=\"data row4 col1\" >(513792, 160)</td>\n",
       "    </tr>\n",
       "    <tr>\n",
       "      <th id=\"T_d2470_level0_row5\" class=\"row_heading level0 row5\" >5</th>\n",
       "      <td id=\"T_d2470_row5_col0\" class=\"data row5 col0\" >Transformed train set shape</td>\n",
       "      <td id=\"T_d2470_row5_col1\" class=\"data row5 col1\" >(452290, 160)</td>\n",
       "    </tr>\n",
       "    <tr>\n",
       "      <th id=\"T_d2470_level0_row6\" class=\"row_heading level0 row6\" >6</th>\n",
       "      <td id=\"T_d2470_row6_col0\" class=\"data row6 col0\" >Transformed test set shape</td>\n",
       "      <td id=\"T_d2470_row6_col1\" class=\"data row6 col1\" >(61502, 160)</td>\n",
       "    </tr>\n",
       "    <tr>\n",
       "      <th id=\"T_d2470_level0_row7\" class=\"row_heading level0 row7\" >7</th>\n",
       "      <td id=\"T_d2470_row7_col0\" class=\"data row7 col0\" >Ignore features</td>\n",
       "      <td id=\"T_d2470_row7_col1\" class=\"data row7 col1\" >386</td>\n",
       "    </tr>\n",
       "    <tr>\n",
       "      <th id=\"T_d2470_level0_row8\" class=\"row_heading level0 row8\" >8</th>\n",
       "      <td id=\"T_d2470_row8_col0\" class=\"data row8 col0\" >Numeric features</td>\n",
       "      <td id=\"T_d2470_row8_col1\" class=\"data row8 col1\" >159</td>\n",
       "    </tr>\n",
       "    <tr>\n",
       "      <th id=\"T_d2470_level0_row9\" class=\"row_heading level0 row9\" >9</th>\n",
       "      <td id=\"T_d2470_row9_col0\" class=\"data row9 col0\" >Preprocess</td>\n",
       "      <td id=\"T_d2470_row9_col1\" class=\"data row9 col1\" >True</td>\n",
       "    </tr>\n",
       "    <tr>\n",
       "      <th id=\"T_d2470_level0_row10\" class=\"row_heading level0 row10\" >10</th>\n",
       "      <td id=\"T_d2470_row10_col0\" class=\"data row10 col0\" >Imputation type</td>\n",
       "      <td id=\"T_d2470_row10_col1\" class=\"data row10 col1\" >simple</td>\n",
       "    </tr>\n",
       "    <tr>\n",
       "      <th id=\"T_d2470_level0_row11\" class=\"row_heading level0 row11\" >11</th>\n",
       "      <td id=\"T_d2470_row11_col0\" class=\"data row11 col0\" >Numeric imputation</td>\n",
       "      <td id=\"T_d2470_row11_col1\" class=\"data row11 col1\" >mean</td>\n",
       "    </tr>\n",
       "    <tr>\n",
       "      <th id=\"T_d2470_level0_row12\" class=\"row_heading level0 row12\" >12</th>\n",
       "      <td id=\"T_d2470_row12_col0\" class=\"data row12 col0\" >Categorical imputation</td>\n",
       "      <td id=\"T_d2470_row12_col1\" class=\"data row12 col1\" >mode</td>\n",
       "    </tr>\n",
       "    <tr>\n",
       "      <th id=\"T_d2470_level0_row13\" class=\"row_heading level0 row13\" >13</th>\n",
       "      <td id=\"T_d2470_row13_col0\" class=\"data row13 col0\" >Fix imbalance</td>\n",
       "      <td id=\"T_d2470_row13_col1\" class=\"data row13 col1\" >True</td>\n",
       "    </tr>\n",
       "    <tr>\n",
       "      <th id=\"T_d2470_level0_row14\" class=\"row_heading level0 row14\" >14</th>\n",
       "      <td id=\"T_d2470_row14_col0\" class=\"data row14 col0\" >Fix imbalance method</td>\n",
       "      <td id=\"T_d2470_row14_col1\" class=\"data row14 col1\" >SMOTE</td>\n",
       "    </tr>\n",
       "    <tr>\n",
       "      <th id=\"T_d2470_level0_row15\" class=\"row_heading level0 row15\" >15</th>\n",
       "      <td id=\"T_d2470_row15_col0\" class=\"data row15 col0\" >Normalize</td>\n",
       "      <td id=\"T_d2470_row15_col1\" class=\"data row15 col1\" >True</td>\n",
       "    </tr>\n",
       "    <tr>\n",
       "      <th id=\"T_d2470_level0_row16\" class=\"row_heading level0 row16\" >16</th>\n",
       "      <td id=\"T_d2470_row16_col0\" class=\"data row16 col0\" >Normalize method</td>\n",
       "      <td id=\"T_d2470_row16_col1\" class=\"data row16 col1\" >robust</td>\n",
       "    </tr>\n",
       "    <tr>\n",
       "      <th id=\"T_d2470_level0_row17\" class=\"row_heading level0 row17\" >17</th>\n",
       "      <td id=\"T_d2470_row17_col0\" class=\"data row17 col0\" >Fold Generator</td>\n",
       "      <td id=\"T_d2470_row17_col1\" class=\"data row17 col1\" >StratifiedKFold</td>\n",
       "    </tr>\n",
       "    <tr>\n",
       "      <th id=\"T_d2470_level0_row18\" class=\"row_heading level0 row18\" >18</th>\n",
       "      <td id=\"T_d2470_row18_col0\" class=\"data row18 col0\" >Fold Number</td>\n",
       "      <td id=\"T_d2470_row18_col1\" class=\"data row18 col1\" >10</td>\n",
       "    </tr>\n",
       "    <tr>\n",
       "      <th id=\"T_d2470_level0_row19\" class=\"row_heading level0 row19\" >19</th>\n",
       "      <td id=\"T_d2470_row19_col0\" class=\"data row19 col0\" >CPU Jobs</td>\n",
       "      <td id=\"T_d2470_row19_col1\" class=\"data row19 col1\" >-1</td>\n",
       "    </tr>\n",
       "    <tr>\n",
       "      <th id=\"T_d2470_level0_row20\" class=\"row_heading level0 row20\" >20</th>\n",
       "      <td id=\"T_d2470_row20_col0\" class=\"data row20 col0\" >Use GPU</td>\n",
       "      <td id=\"T_d2470_row20_col1\" class=\"data row20 col1\" >False</td>\n",
       "    </tr>\n",
       "    <tr>\n",
       "      <th id=\"T_d2470_level0_row21\" class=\"row_heading level0 row21\" >21</th>\n",
       "      <td id=\"T_d2470_row21_col0\" class=\"data row21 col0\" >Log Experiment</td>\n",
       "      <td id=\"T_d2470_row21_col1\" class=\"data row21 col1\" >DagshubLogger</td>\n",
       "    </tr>\n",
       "    <tr>\n",
       "      <th id=\"T_d2470_level0_row22\" class=\"row_heading level0 row22\" >22</th>\n",
       "      <td id=\"T_d2470_row22_col0\" class=\"data row22 col0\" >Experiment Name</td>\n",
       "      <td id=\"T_d2470_row22_col1\" class=\"data row22 col1\" >Balancing using SMOTE</td>\n",
       "    </tr>\n",
       "    <tr>\n",
       "      <th id=\"T_d2470_level0_row23\" class=\"row_heading level0 row23\" >23</th>\n",
       "      <td id=\"T_d2470_row23_col0\" class=\"data row23 col0\" >USI</td>\n",
       "      <td id=\"T_d2470_row23_col1\" class=\"data row23 col1\" >76f8</td>\n",
       "    </tr>\n",
       "  </tbody>\n",
       "</table>\n"
      ],
      "text/plain": [
       "<pandas.io.formats.style.Styler at 0x23f8c4c58a0>"
      ]
     },
     "metadata": {},
     "output_type": "display_data"
    },
    {
     "name": "stdin",
     "output_type": "stream",
     "text": [
      "Please insert your repository owner_name/repo_name: sefirotha/OC-DS-P7_mlflow\n"
     ]
    },
    {
     "name": "stderr",
     "output_type": "stream",
     "text": [
      "2023/06/10 18:43:13 INFO mlflow.tracking.fluent: Experiment with name 'Balancing using SMOTE' does not exist. Creating a new experiment.\n"
     ]
    },
    {
     "data": {
      "text/html": [
       "<pre style=\"white-space:pre;overflow-x:auto;line-height:normal;font-family:Menlo,'DejaVu Sans Mono',consolas,'Courier New',monospace\">Uploading files <span style=\"font-weight: bold\">(</span><span style=\"color: #008080; text-decoration-color: #008080; font-weight: bold\">2</span><span style=\"font-weight: bold\">)</span> to <span style=\"color: #008000; text-decoration-color: #008000\">\"sefirotha/OC-DS-P7_mlflow\"</span><span style=\"color: #808000; text-decoration-color: #808000\">...</span>\n",
       "</pre>\n"
      ],
      "text/plain": [
       "Uploading files \u001b[1m(\u001b[0m\u001b[1;36m2\u001b[0m\u001b[1m)\u001b[0m to \u001b[32m\"sefirotha/OC-DS-P7_mlflow\"\u001b[0m\u001b[33m...\u001b[0m\n"
      ]
     },
     "metadata": {},
     "output_type": "display_data"
    },
    {
     "data": {
      "text/html": [
       "<pre style=\"white-space:pre;overflow-x:auto;line-height:normal;font-family:Menlo,'DejaVu Sans Mono',consolas,'Courier New',monospace\">Upload finished successfully!\n",
       "</pre>\n"
      ],
      "text/plain": [
       "Upload finished successfully!\n"
      ]
     },
     "metadata": {},
     "output_type": "display_data"
    }
   ],
   "source": [
    "s = setup(data = train_df, \n",
    "          target = 'TARGET', \n",
    "          train_size = 0.8,\n",
    "          ignore_features = features_to_ignore,\n",
    "          log_data = True,\n",
    "          log_experiment = \"dagshub\",\n",
    "          experiment_name = \"Balancing using SMOTE\",\n",
    "          fix_imbalance = True,\n",
    "          fix_imbalance_method = 'SMOTE',\n",
    "          normalize = True,\n",
    "          normalize_method=\"robust\",\n",
    "          session_id=42)"
   ]
  },
  {
   "cell_type": "code",
   "execution_count": 13,
   "id": "7d0a9df4-3ec8-47c6-b484-5ac810e5ca4a",
   "metadata": {},
   "outputs": [
    {
     "data": {
      "text/html": [],
      "text/plain": [
       "<IPython.core.display.HTML object>"
      ]
     },
     "metadata": {},
     "output_type": "display_data"
    },
    {
     "data": {
      "text/html": [
       "<style type=\"text/css\">\n",
       "#T_d51a0_row10_col0, #T_d51a0_row10_col1, #T_d51a0_row10_col2, #T_d51a0_row10_col3, #T_d51a0_row10_col4, #T_d51a0_row10_col5, #T_d51a0_row10_col6 {\n",
       "  background: yellow;\n",
       "}\n",
       "</style>\n",
       "<table id=\"T_d51a0\">\n",
       "  <thead>\n",
       "    <tr>\n",
       "      <th class=\"blank level0\" >&nbsp;</th>\n",
       "      <th id=\"T_d51a0_level0_col0\" class=\"col_heading level0 col0\" >Accuracy</th>\n",
       "      <th id=\"T_d51a0_level0_col1\" class=\"col_heading level0 col1\" >AUC</th>\n",
       "      <th id=\"T_d51a0_level0_col2\" class=\"col_heading level0 col2\" >Recall</th>\n",
       "      <th id=\"T_d51a0_level0_col3\" class=\"col_heading level0 col3\" >Prec.</th>\n",
       "      <th id=\"T_d51a0_level0_col4\" class=\"col_heading level0 col4\" >F1</th>\n",
       "      <th id=\"T_d51a0_level0_col5\" class=\"col_heading level0 col5\" >Kappa</th>\n",
       "      <th id=\"T_d51a0_level0_col6\" class=\"col_heading level0 col6\" >MCC</th>\n",
       "    </tr>\n",
       "    <tr>\n",
       "      <th class=\"index_name level0\" >Fold</th>\n",
       "      <th class=\"blank col0\" >&nbsp;</th>\n",
       "      <th class=\"blank col1\" >&nbsp;</th>\n",
       "      <th class=\"blank col2\" >&nbsp;</th>\n",
       "      <th class=\"blank col3\" >&nbsp;</th>\n",
       "      <th class=\"blank col4\" >&nbsp;</th>\n",
       "      <th class=\"blank col5\" >&nbsp;</th>\n",
       "      <th class=\"blank col6\" >&nbsp;</th>\n",
       "    </tr>\n",
       "  </thead>\n",
       "  <tbody>\n",
       "    <tr>\n",
       "      <th id=\"T_d51a0_level0_row0\" class=\"row_heading level0 row0\" >0</th>\n",
       "      <td id=\"T_d51a0_row0_col0\" class=\"data row0 col0\" >0.9196</td>\n",
       "      <td id=\"T_d51a0_row0_col1\" class=\"data row0 col1\" >0.7753</td>\n",
       "      <td id=\"T_d51a0_row0_col2\" class=\"data row0 col2\" >0.0206</td>\n",
       "      <td id=\"T_d51a0_row0_col3\" class=\"data row0 col3\" >0.5541</td>\n",
       "      <td id=\"T_d51a0_row0_col4\" class=\"data row0 col4\" >0.0398</td>\n",
       "      <td id=\"T_d51a0_row0_col5\" class=\"data row0 col5\" >0.0342</td>\n",
       "      <td id=\"T_d51a0_row0_col6\" class=\"data row0 col6\" >0.0954</td>\n",
       "    </tr>\n",
       "    <tr>\n",
       "      <th id=\"T_d51a0_level0_row1\" class=\"row_heading level0 row1\" >1</th>\n",
       "      <td id=\"T_d51a0_row1_col0\" class=\"data row1 col0\" >0.9195</td>\n",
       "      <td id=\"T_d51a0_row1_col1\" class=\"data row1 col1\" >0.7692</td>\n",
       "      <td id=\"T_d51a0_row1_col2\" class=\"data row1 col2\" >0.0237</td>\n",
       "      <td id=\"T_d51a0_row1_col3\" class=\"data row1 col3\" >0.5281</td>\n",
       "      <td id=\"T_d51a0_row1_col4\" class=\"data row1 col4\" >0.0453</td>\n",
       "      <td id=\"T_d51a0_row1_col5\" class=\"data row1 col5\" >0.0386</td>\n",
       "      <td id=\"T_d51a0_row1_col6\" class=\"data row1 col6\" >0.0990</td>\n",
       "    </tr>\n",
       "    <tr>\n",
       "      <th id=\"T_d51a0_level0_row2\" class=\"row_heading level0 row2\" >2</th>\n",
       "      <td id=\"T_d51a0_row2_col0\" class=\"data row2 col0\" >0.9187</td>\n",
       "      <td id=\"T_d51a0_row2_col1\" class=\"data row2 col1\" >0.7718</td>\n",
       "      <td id=\"T_d51a0_row2_col2\" class=\"data row2 col2\" >0.0161</td>\n",
       "      <td id=\"T_d51a0_row2_col3\" class=\"data row2 col3\" >0.4156</td>\n",
       "      <td id=\"T_d51a0_row2_col4\" class=\"data row2 col4\" >0.0310</td>\n",
       "      <td id=\"T_d51a0_row2_col5\" class=\"data row2 col5\" >0.0251</td>\n",
       "      <td id=\"T_d51a0_row2_col6\" class=\"data row2 col6\" >0.0689</td>\n",
       "    </tr>\n",
       "    <tr>\n",
       "      <th id=\"T_d51a0_level0_row3\" class=\"row_heading level0 row3\" >3</th>\n",
       "      <td id=\"T_d51a0_row3_col0\" class=\"data row3 col0\" >0.9192</td>\n",
       "      <td id=\"T_d51a0_row3_col1\" class=\"data row3 col1\" >0.7666</td>\n",
       "      <td id=\"T_d51a0_row3_col2\" class=\"data row3 col2\" >0.0191</td>\n",
       "      <td id=\"T_d51a0_row3_col3\" class=\"data row3 col3\" >0.4935</td>\n",
       "      <td id=\"T_d51a0_row3_col4\" class=\"data row3 col4\" >0.0368</td>\n",
       "      <td id=\"T_d51a0_row3_col5\" class=\"data row3 col5\" >0.0310</td>\n",
       "      <td id=\"T_d51a0_row3_col6\" class=\"data row3 col6\" >0.0849</td>\n",
       "    </tr>\n",
       "    <tr>\n",
       "      <th id=\"T_d51a0_level0_row4\" class=\"row_heading level0 row4\" >4</th>\n",
       "      <td id=\"T_d51a0_row4_col0\" class=\"data row4 col0\" >0.9200</td>\n",
       "      <td id=\"T_d51a0_row4_col1\" class=\"data row4 col1\" >0.7707</td>\n",
       "      <td id=\"T_d51a0_row4_col2\" class=\"data row4 col2\" >0.0191</td>\n",
       "      <td id=\"T_d51a0_row4_col3\" class=\"data row4 col3\" >0.6441</td>\n",
       "      <td id=\"T_d51a0_row4_col4\" class=\"data row4 col4\" >0.0372</td>\n",
       "      <td id=\"T_d51a0_row4_col5\" class=\"data row4 col5\" >0.0327</td>\n",
       "      <td id=\"T_d51a0_row4_col6\" class=\"data row4 col6\" >0.1014</td>\n",
       "    </tr>\n",
       "    <tr>\n",
       "      <th id=\"T_d51a0_level0_row5\" class=\"row_heading level0 row5\" >5</th>\n",
       "      <td id=\"T_d51a0_row5_col0\" class=\"data row5 col0\" >0.9194</td>\n",
       "      <td id=\"T_d51a0_row5_col1\" class=\"data row5 col1\" >0.7696</td>\n",
       "      <td id=\"T_d51a0_row5_col2\" class=\"data row5 col2\" >0.0191</td>\n",
       "      <td id=\"T_d51a0_row5_col3\" class=\"data row5 col3\" >0.5205</td>\n",
       "      <td id=\"T_d51a0_row5_col4\" class=\"data row5 col4\" >0.0369</td>\n",
       "      <td id=\"T_d51a0_row5_col5\" class=\"data row5 col5\" >0.0314</td>\n",
       "      <td id=\"T_d51a0_row5_col6\" class=\"data row5 col6\" >0.0881</td>\n",
       "    </tr>\n",
       "    <tr>\n",
       "      <th id=\"T_d51a0_level0_row6\" class=\"row_heading level0 row6\" >6</th>\n",
       "      <td id=\"T_d51a0_row6_col0\" class=\"data row6 col0\" >0.9196</td>\n",
       "      <td id=\"T_d51a0_row6_col1\" class=\"data row6 col1\" >0.7762</td>\n",
       "      <td id=\"T_d51a0_row6_col2\" class=\"data row6 col2\" >0.0242</td>\n",
       "      <td id=\"T_d51a0_row6_col3\" class=\"data row6 col3\" >0.5455</td>\n",
       "      <td id=\"T_d51a0_row6_col4\" class=\"data row6 col4\" >0.0463</td>\n",
       "      <td id=\"T_d51a0_row6_col5\" class=\"data row6 col5\" >0.0397</td>\n",
       "      <td id=\"T_d51a0_row6_col6\" class=\"data row6 col6\" >0.1022</td>\n",
       "    </tr>\n",
       "    <tr>\n",
       "      <th id=\"T_d51a0_level0_row7\" class=\"row_heading level0 row7\" >7</th>\n",
       "      <td id=\"T_d51a0_row7_col0\" class=\"data row7 col0\" >0.9203</td>\n",
       "      <td id=\"T_d51a0_row7_col1\" class=\"data row7 col1\" >0.7802</td>\n",
       "      <td id=\"T_d51a0_row7_col2\" class=\"data row7 col2\" >0.0267</td>\n",
       "      <td id=\"T_d51a0_row7_col3\" class=\"data row7 col3\" >0.6543</td>\n",
       "      <td id=\"T_d51a0_row7_col4\" class=\"data row7 col4\" >0.0513</td>\n",
       "      <td id=\"T_d51a0_row7_col5\" class=\"data row7 col5\" >0.0452</td>\n",
       "      <td id=\"T_d51a0_row7_col6\" class=\"data row7 col6\" >0.1210</td>\n",
       "    </tr>\n",
       "    <tr>\n",
       "      <th id=\"T_d51a0_level0_row8\" class=\"row_heading level0 row8\" >8</th>\n",
       "      <td id=\"T_d51a0_row8_col0\" class=\"data row8 col0\" >0.9194</td>\n",
       "      <td id=\"T_d51a0_row8_col1\" class=\"data row8 col1\" >0.7636</td>\n",
       "      <td id=\"T_d51a0_row8_col2\" class=\"data row8 col2\" >0.0232</td>\n",
       "      <td id=\"T_d51a0_row8_col3\" class=\"data row8 col3\" >0.5169</td>\n",
       "      <td id=\"T_d51a0_row8_col4\" class=\"data row8 col4\" >0.0443</td>\n",
       "      <td id=\"T_d51a0_row8_col5\" class=\"data row8 col5\" >0.0377</td>\n",
       "      <td id=\"T_d51a0_row8_col6\" class=\"data row8 col6\" >0.0965</td>\n",
       "    </tr>\n",
       "    <tr>\n",
       "      <th id=\"T_d51a0_level0_row9\" class=\"row_heading level0 row9\" >9</th>\n",
       "      <td id=\"T_d51a0_row9_col0\" class=\"data row9 col0\" >0.9195</td>\n",
       "      <td id=\"T_d51a0_row9_col1\" class=\"data row9 col1\" >0.7730</td>\n",
       "      <td id=\"T_d51a0_row9_col2\" class=\"data row9 col2\" >0.0217</td>\n",
       "      <td id=\"T_d51a0_row9_col3\" class=\"data row9 col3\" >0.5309</td>\n",
       "      <td id=\"T_d51a0_row9_col4\" class=\"data row9 col4\" >0.0416</td>\n",
       "      <td id=\"T_d51a0_row9_col5\" class=\"data row9 col5\" >0.0355</td>\n",
       "      <td id=\"T_d51a0_row9_col6\" class=\"data row9 col6\" >0.0950</td>\n",
       "    </tr>\n",
       "    <tr>\n",
       "      <th id=\"T_d51a0_level0_row10\" class=\"row_heading level0 row10\" >Mean</th>\n",
       "      <td id=\"T_d51a0_row10_col0\" class=\"data row10 col0\" >0.9195</td>\n",
       "      <td id=\"T_d51a0_row10_col1\" class=\"data row10 col1\" >0.7716</td>\n",
       "      <td id=\"T_d51a0_row10_col2\" class=\"data row10 col2\" >0.0213</td>\n",
       "      <td id=\"T_d51a0_row10_col3\" class=\"data row10 col3\" >0.5403</td>\n",
       "      <td id=\"T_d51a0_row10_col4\" class=\"data row10 col4\" >0.0411</td>\n",
       "      <td id=\"T_d51a0_row10_col5\" class=\"data row10 col5\" >0.0351</td>\n",
       "      <td id=\"T_d51a0_row10_col6\" class=\"data row10 col6\" >0.0952</td>\n",
       "    </tr>\n",
       "    <tr>\n",
       "      <th id=\"T_d51a0_level0_row11\" class=\"row_heading level0 row11\" >Std</th>\n",
       "      <td id=\"T_d51a0_row11_col0\" class=\"data row11 col0\" >0.0004</td>\n",
       "      <td id=\"T_d51a0_row11_col1\" class=\"data row11 col1\" >0.0046</td>\n",
       "      <td id=\"T_d51a0_row11_col2\" class=\"data row11 col2\" >0.0030</td>\n",
       "      <td id=\"T_d51a0_row11_col3\" class=\"data row11 col3\" >0.0655</td>\n",
       "      <td id=\"T_d51a0_row11_col4\" class=\"data row11 col4\" >0.0056</td>\n",
       "      <td id=\"T_d51a0_row11_col5\" class=\"data row11 col5\" >0.0053</td>\n",
       "      <td id=\"T_d51a0_row11_col6\" class=\"data row11 col6\" >0.0127</td>\n",
       "    </tr>\n",
       "  </tbody>\n",
       "</table>\n"
      ],
      "text/plain": [
       "<pandas.io.formats.style.Styler at 0x23f8ad1ad70>"
      ]
     },
     "metadata": {},
     "output_type": "display_data"
    },
    {
     "data": {
      "application/vnd.jupyter.widget-view+json": {
       "model_id": "",
       "version_major": 2,
       "version_minor": 0
      },
      "text/plain": [
       "Processing:   0%|          | 0/4 [00:00<?, ?it/s]"
      ]
     },
     "metadata": {},
     "output_type": "display_data"
    }
   ],
   "source": [
    "lgbm_smote = create_model(\"lightgbm\")"
   ]
  },
  {
   "cell_type": "code",
   "execution_count": 37,
   "id": "0ae89cfd-a03c-479c-bd79-cb4ad449a118",
   "metadata": {},
   "outputs": [
    {
     "data": {
      "text/html": [
       "<style type=\"text/css\">\n",
       "</style>\n",
       "<table id=\"T_0af1f\">\n",
       "  <thead>\n",
       "    <tr>\n",
       "      <th class=\"blank level0\" >&nbsp;</th>\n",
       "      <th id=\"T_0af1f_level0_col0\" class=\"col_heading level0 col0\" >Model</th>\n",
       "      <th id=\"T_0af1f_level0_col1\" class=\"col_heading level0 col1\" >Accuracy</th>\n",
       "      <th id=\"T_0af1f_level0_col2\" class=\"col_heading level0 col2\" >AUC</th>\n",
       "      <th id=\"T_0af1f_level0_col3\" class=\"col_heading level0 col3\" >Recall</th>\n",
       "      <th id=\"T_0af1f_level0_col4\" class=\"col_heading level0 col4\" >Prec.</th>\n",
       "      <th id=\"T_0af1f_level0_col5\" class=\"col_heading level0 col5\" >F1</th>\n",
       "      <th id=\"T_0af1f_level0_col6\" class=\"col_heading level0 col6\" >Kappa</th>\n",
       "      <th id=\"T_0af1f_level0_col7\" class=\"col_heading level0 col7\" >MCC</th>\n",
       "    </tr>\n",
       "  </thead>\n",
       "  <tbody>\n",
       "    <tr>\n",
       "      <th id=\"T_0af1f_level0_row0\" class=\"row_heading level0 row0\" >0</th>\n",
       "      <td id=\"T_0af1f_row0_col0\" class=\"data row0 col0\" >Light Gradient Boosting Machine</td>\n",
       "      <td id=\"T_0af1f_row0_col1\" class=\"data row0 col1\" >0.0976</td>\n",
       "      <td id=\"T_0af1f_row0_col2\" class=\"data row0 col2\" >0.6034</td>\n",
       "      <td id=\"T_0af1f_row0_col3\" class=\"data row0 col3\" >0.9954</td>\n",
       "      <td id=\"T_0af1f_row0_col4\" class=\"data row0 col4\" >0.0818</td>\n",
       "      <td id=\"T_0af1f_row0_col5\" class=\"data row0 col5\" >0.1512</td>\n",
       "      <td id=\"T_0af1f_row0_col6\" class=\"data row0 col6\" >0.0023</td>\n",
       "      <td id=\"T_0af1f_row0_col7\" class=\"data row0 col7\" >0.0292</td>\n",
       "    </tr>\n",
       "  </tbody>\n",
       "</table>\n"
      ],
      "text/plain": [
       "<pandas.io.formats.style.Styler at 0x23f8c482290>"
      ]
     },
     "metadata": {},
     "output_type": "display_data"
    }
   ],
   "source": [
    "lgbm_smote_table = predict_model(lgbm_smote, raw_score = True)"
   ]
  },
  {
   "cell_type": "code",
   "execution_count": 15,
   "id": "0ab4eba0-f514-4f54-808c-4862a7913ad2",
   "metadata": {},
   "outputs": [
    {
     "data": {
      "text/html": [],
      "text/plain": [
       "<IPython.core.display.HTML object>"
      ]
     },
     "metadata": {},
     "output_type": "display_data"
    },
    {
     "data": {
      "image/png": "[encoded data removed]",
      "text/plain": [
       "<Figure size 800x550 with 1 Axes>"
      ]
     },
     "metadata": {},
     "output_type": "display_data"
    }
   ],
   "source": [
    "plot_model(lgbm_smote, \"confusion_matrix\")"
   ]
  },
  {
   "cell_type": "code",
   "execution_count": 16,
   "id": "bfe9f94d-a90e-4a53-a72b-307a042e9d8e",
   "metadata": {},
   "outputs": [
    {
     "data": {
      "text/html": [],
      "text/plain": [
       "<IPython.core.display.HTML object>"
      ]
     },
     "metadata": {},
     "output_type": "display_data"
    },
    {
     "data": {
      "image/png": "[encoded data removed]",
      "text/plain": [
       "<Figure size 800x550 with 2 Axes>"
      ]
     },
     "metadata": {},
     "output_type": "display_data"
    }
   ],
   "source": [
    "plot_model(lgbm_smote, \"class_report\")"
   ]
  },
  {
   "cell_type": "code",
   "execution_count": 36,
   "id": "4421dfdb-646d-450b-8b63-8fdfbebab776",
   "metadata": {},
   "outputs": [
    {
     "data": {
      "text/html": [
       "<div>\n",
       "<style scoped>\n",
       "    .dataframe tbody tr th:only-of-type {\n",
       "        vertical-align: middle;\n",
       "    }\n",
       "\n",
       "    .dataframe tbody tr th {\n",
       "        vertical-align: top;\n",
       "    }\n",
       "\n",
       "    .dataframe thead th {\n",
       "        text-align: right;\n",
       "    }\n",
       "</style>\n",
       "<table border=\"1\" class=\"dataframe\">\n",
       "  <thead>\n",
       "    <tr style=\"text-align: right;\">\n",
       "      <th></th>\n",
       "      <th>category</th>\n",
       "    </tr>\n",
       "  </thead>\n",
       "  <tbody>\n",
       "    <tr>\n",
       "      <th>FP</th>\n",
       "      <td>55478</td>\n",
       "    </tr>\n",
       "    <tr>\n",
       "      <th>TP</th>\n",
       "      <td>4942</td>\n",
       "    </tr>\n",
       "    <tr>\n",
       "      <th>TN</th>\n",
       "      <td>1059</td>\n",
       "    </tr>\n",
       "    <tr>\n",
       "      <th>FN</th>\n",
       "      <td>23</td>\n",
       "    </tr>\n",
       "  </tbody>\n",
       "</table>\n",
       "</div>"
      ],
      "text/plain": [
       "    category\n",
       "FP     55478\n",
       "TP      4942\n",
       "TN      1059\n",
       "FN        23"
      ]
     },
     "execution_count": 36,
     "metadata": {},
     "output_type": "execute_result"
    }
   ],
   "source": [
    "outils_model.count_confusion_matrix_values(lgbm_smote_table, \"TARGET\", \"prediction_label\")"
   ]
  },
  {
   "cell_type": "code",
   "execution_count": 17,
   "id": "897640bb-9e26-4607-91a1-6c6e18c3c835",
   "metadata": {},
   "outputs": [
    {
     "name": "stdout",
     "output_type": "stream",
     "text": [
      "Transformation Pipeline and Model Successfully Saved\n"
     ]
    },
    {
     "data": {
      "text/html": [
       "<pre style=\"white-space:pre;overflow-x:auto;line-height:normal;font-family:Menlo,'DejaVu Sans Mono',consolas,'Courier New',monospace\">Uploading files <span style=\"font-weight: bold\">(</span><span style=\"color: #008080; text-decoration-color: #008080; font-weight: bold\">1</span><span style=\"font-weight: bold\">)</span> to <span style=\"color: #008000; text-decoration-color: #008000\">\"sefirotha/OC-DS-P7_mlflow\"</span><span style=\"color: #808000; text-decoration-color: #808000\">...</span>\n",
       "</pre>\n"
      ],
      "text/plain": [
       "Uploading files \u001b[1m(\u001b[0m\u001b[1;36m1\u001b[0m\u001b[1m)\u001b[0m to \u001b[32m\"sefirotha/OC-DS-P7_mlflow\"\u001b[0m\u001b[33m...\u001b[0m\n"
      ]
     },
     "metadata": {},
     "output_type": "display_data"
    },
    {
     "data": {
      "text/html": [
       "<pre style=\"white-space:pre;overflow-x:auto;line-height:normal;font-family:Menlo,'DejaVu Sans Mono',consolas,'Courier New',monospace\">Upload finished successfully!\n",
       "</pre>\n"
      ],
      "text/plain": [
       "Upload finished successfully!\n"
      ]
     },
     "metadata": {},
     "output_type": "display_data"
    },
    {
     "data": {
      "text/plain": [
       "(Pipeline(memory=FastMemory(location=C:\\Users\\EBERTH~1\\AppData\\Local\\Temp\\joblib),\n",
       "          steps=[('numerical_imputer',\n",
       "                  TransformerWrapper(exclude=None,\n",
       "                                     include=['CODE_GENDER', 'FLAG_OWN_CAR',\n",
       "                                              'FLAG_OWN_REALTY', 'CNT_CHILDREN',\n",
       "                                              'AMT_CREDIT', 'AMT_ANNUITY',\n",
       "                                              'AMT_GOODS_PRICE',\n",
       "                                              'REGION_POPULATION_RELATIVE',\n",
       "                                              'DAYS_BIRTH', 'DAYS_EMPLOYED',\n",
       "                                              'DAYS_REGISTRATION',\n",
       "                                              'DAYS_ID_PUBLIS...\n",
       "                  LGBMClassifier(boosting_type='gbdt', class_weight=None,\n",
       "                                 colsample_bytree=1.0, importance_type='split',\n",
       "                                 learning_rate=0.1, max_depth=-1,\n",
       "                                 min_child_samples=20, min_child_weight=0.001,\n",
       "                                 min_split_gain=0.0, n_estimators=100, n_jobs=-1,\n",
       "                                 num_leaves=31, objective=None, random_state=42,\n",
       "                                 reg_alpha=0.0, reg_lambda=0.0, silent='warn',\n",
       "                                 subsample=1.0, subsample_for_bin=200000,\n",
       "                                 subsample_freq=0))],\n",
       "          verbose=False),\n",
       " 'test_lgbm_with_smote.pkl')"
      ]
     },
     "execution_count": 17,
     "metadata": {},
     "output_type": "execute_result"
    }
   ],
   "source": [
    "save_model(lgbm_smote, \"test_lgbm_with_smote\")"
   ]
  },
  {
   "cell_type": "markdown",
   "id": "b5c62645-e6e3-4e6e-8b8a-37b79b80ef72",
   "metadata": {},
   "source": [
    "## <a id='1'>4.2 LGBM balancing function</a>"
   ]
  },
  {
   "cell_type": "code",
   "execution_count": 18,
   "id": "c6b00a34-c698-45df-86f4-0d4072a6718c",
   "metadata": {},
   "outputs": [
    {
     "data": {
      "text/html": [
       "<style type=\"text/css\">\n",
       "#T_d7804_row9_col1, #T_d7804_row13_col1 {\n",
       "  background-color: lightgreen;\n",
       "}\n",
       "</style>\n",
       "<table id=\"T_d7804\">\n",
       "  <thead>\n",
       "    <tr>\n",
       "      <th class=\"blank level0\" >&nbsp;</th>\n",
       "      <th id=\"T_d7804_level0_col0\" class=\"col_heading level0 col0\" >Description</th>\n",
       "      <th id=\"T_d7804_level0_col1\" class=\"col_heading level0 col1\" >Value</th>\n",
       "    </tr>\n",
       "  </thead>\n",
       "  <tbody>\n",
       "    <tr>\n",
       "      <th id=\"T_d7804_level0_row0\" class=\"row_heading level0 row0\" >0</th>\n",
       "      <td id=\"T_d7804_row0_col0\" class=\"data row0 col0\" >Session id</td>\n",
       "      <td id=\"T_d7804_row0_col1\" class=\"data row0 col1\" >42</td>\n",
       "    </tr>\n",
       "    <tr>\n",
       "      <th id=\"T_d7804_level0_row1\" class=\"row_heading level0 row1\" >1</th>\n",
       "      <td id=\"T_d7804_row1_col0\" class=\"data row1 col0\" >Target</td>\n",
       "      <td id=\"T_d7804_row1_col1\" class=\"data row1 col1\" >TARGET</td>\n",
       "    </tr>\n",
       "    <tr>\n",
       "      <th id=\"T_d7804_level0_row2\" class=\"row_heading level0 row2\" >2</th>\n",
       "      <td id=\"T_d7804_row2_col0\" class=\"data row2 col0\" >Target type</td>\n",
       "      <td id=\"T_d7804_row2_col1\" class=\"data row2 col1\" >Binary</td>\n",
       "    </tr>\n",
       "    <tr>\n",
       "      <th id=\"T_d7804_level0_row3\" class=\"row_heading level0 row3\" >3</th>\n",
       "      <td id=\"T_d7804_row3_col0\" class=\"data row3 col0\" >Original data shape</td>\n",
       "      <td id=\"T_d7804_row3_col1\" class=\"data row3 col1\" >(307507, 546)</td>\n",
       "    </tr>\n",
       "    <tr>\n",
       "      <th id=\"T_d7804_level0_row4\" class=\"row_heading level0 row4\" >4</th>\n",
       "      <td id=\"T_d7804_row4_col0\" class=\"data row4 col0\" >Transformed data shape</td>\n",
       "      <td id=\"T_d7804_row4_col1\" class=\"data row4 col1\" >(307507, 160)</td>\n",
       "    </tr>\n",
       "    <tr>\n",
       "      <th id=\"T_d7804_level0_row5\" class=\"row_heading level0 row5\" >5</th>\n",
       "      <td id=\"T_d7804_row5_col0\" class=\"data row5 col0\" >Transformed train set shape</td>\n",
       "      <td id=\"T_d7804_row5_col1\" class=\"data row5 col1\" >(246005, 160)</td>\n",
       "    </tr>\n",
       "    <tr>\n",
       "      <th id=\"T_d7804_level0_row6\" class=\"row_heading level0 row6\" >6</th>\n",
       "      <td id=\"T_d7804_row6_col0\" class=\"data row6 col0\" >Transformed test set shape</td>\n",
       "      <td id=\"T_d7804_row6_col1\" class=\"data row6 col1\" >(61502, 160)</td>\n",
       "    </tr>\n",
       "    <tr>\n",
       "      <th id=\"T_d7804_level0_row7\" class=\"row_heading level0 row7\" >7</th>\n",
       "      <td id=\"T_d7804_row7_col0\" class=\"data row7 col0\" >Ignore features</td>\n",
       "      <td id=\"T_d7804_row7_col1\" class=\"data row7 col1\" >386</td>\n",
       "    </tr>\n",
       "    <tr>\n",
       "      <th id=\"T_d7804_level0_row8\" class=\"row_heading level0 row8\" >8</th>\n",
       "      <td id=\"T_d7804_row8_col0\" class=\"data row8 col0\" >Numeric features</td>\n",
       "      <td id=\"T_d7804_row8_col1\" class=\"data row8 col1\" >159</td>\n",
       "    </tr>\n",
       "    <tr>\n",
       "      <th id=\"T_d7804_level0_row9\" class=\"row_heading level0 row9\" >9</th>\n",
       "      <td id=\"T_d7804_row9_col0\" class=\"data row9 col0\" >Preprocess</td>\n",
       "      <td id=\"T_d7804_row9_col1\" class=\"data row9 col1\" >True</td>\n",
       "    </tr>\n",
       "    <tr>\n",
       "      <th id=\"T_d7804_level0_row10\" class=\"row_heading level0 row10\" >10</th>\n",
       "      <td id=\"T_d7804_row10_col0\" class=\"data row10 col0\" >Imputation type</td>\n",
       "      <td id=\"T_d7804_row10_col1\" class=\"data row10 col1\" >simple</td>\n",
       "    </tr>\n",
       "    <tr>\n",
       "      <th id=\"T_d7804_level0_row11\" class=\"row_heading level0 row11\" >11</th>\n",
       "      <td id=\"T_d7804_row11_col0\" class=\"data row11 col0\" >Numeric imputation</td>\n",
       "      <td id=\"T_d7804_row11_col1\" class=\"data row11 col1\" >mean</td>\n",
       "    </tr>\n",
       "    <tr>\n",
       "      <th id=\"T_d7804_level0_row12\" class=\"row_heading level0 row12\" >12</th>\n",
       "      <td id=\"T_d7804_row12_col0\" class=\"data row12 col0\" >Categorical imputation</td>\n",
       "      <td id=\"T_d7804_row12_col1\" class=\"data row12 col1\" >mode</td>\n",
       "    </tr>\n",
       "    <tr>\n",
       "      <th id=\"T_d7804_level0_row13\" class=\"row_heading level0 row13\" >13</th>\n",
       "      <td id=\"T_d7804_row13_col0\" class=\"data row13 col0\" >Normalize</td>\n",
       "      <td id=\"T_d7804_row13_col1\" class=\"data row13 col1\" >True</td>\n",
       "    </tr>\n",
       "    <tr>\n",
       "      <th id=\"T_d7804_level0_row14\" class=\"row_heading level0 row14\" >14</th>\n",
       "      <td id=\"T_d7804_row14_col0\" class=\"data row14 col0\" >Normalize method</td>\n",
       "      <td id=\"T_d7804_row14_col1\" class=\"data row14 col1\" >robust</td>\n",
       "    </tr>\n",
       "    <tr>\n",
       "      <th id=\"T_d7804_level0_row15\" class=\"row_heading level0 row15\" >15</th>\n",
       "      <td id=\"T_d7804_row15_col0\" class=\"data row15 col0\" >Fold Generator</td>\n",
       "      <td id=\"T_d7804_row15_col1\" class=\"data row15 col1\" >StratifiedKFold</td>\n",
       "    </tr>\n",
       "    <tr>\n",
       "      <th id=\"T_d7804_level0_row16\" class=\"row_heading level0 row16\" >16</th>\n",
       "      <td id=\"T_d7804_row16_col0\" class=\"data row16 col0\" >Fold Number</td>\n",
       "      <td id=\"T_d7804_row16_col1\" class=\"data row16 col1\" >10</td>\n",
       "    </tr>\n",
       "    <tr>\n",
       "      <th id=\"T_d7804_level0_row17\" class=\"row_heading level0 row17\" >17</th>\n",
       "      <td id=\"T_d7804_row17_col0\" class=\"data row17 col0\" >CPU Jobs</td>\n",
       "      <td id=\"T_d7804_row17_col1\" class=\"data row17 col1\" >-1</td>\n",
       "    </tr>\n",
       "    <tr>\n",
       "      <th id=\"T_d7804_level0_row18\" class=\"row_heading level0 row18\" >18</th>\n",
       "      <td id=\"T_d7804_row18_col0\" class=\"data row18 col0\" >Use GPU</td>\n",
       "      <td id=\"T_d7804_row18_col1\" class=\"data row18 col1\" >False</td>\n",
       "    </tr>\n",
       "    <tr>\n",
       "      <th id=\"T_d7804_level0_row19\" class=\"row_heading level0 row19\" >19</th>\n",
       "      <td id=\"T_d7804_row19_col0\" class=\"data row19 col0\" >Log Experiment</td>\n",
       "      <td id=\"T_d7804_row19_col1\" class=\"data row19 col1\" >DagshubLogger</td>\n",
       "    </tr>\n",
       "    <tr>\n",
       "      <th id=\"T_d7804_level0_row20\" class=\"row_heading level0 row20\" >20</th>\n",
       "      <td id=\"T_d7804_row20_col0\" class=\"data row20 col0\" >Experiment Name</td>\n",
       "      <td id=\"T_d7804_row20_col1\" class=\"data row20 col1\" >Balancing using LGBM function</td>\n",
       "    </tr>\n",
       "    <tr>\n",
       "      <th id=\"T_d7804_level0_row21\" class=\"row_heading level0 row21\" >21</th>\n",
       "      <td id=\"T_d7804_row21_col0\" class=\"data row21 col0\" >USI</td>\n",
       "      <td id=\"T_d7804_row21_col1\" class=\"data row21 col1\" >5928</td>\n",
       "    </tr>\n",
       "  </tbody>\n",
       "</table>\n"
      ],
      "text/plain": [
       "<pandas.io.formats.style.Styler at 0x23f8c53b1f0>"
      ]
     },
     "metadata": {},
     "output_type": "display_data"
    },
    {
     "name": "stdin",
     "output_type": "stream",
     "text": [
      "Please insert your repository owner_name/repo_name: sefirotha/OC-DS-P7_mlflow\n"
     ]
    },
    {
     "name": "stderr",
     "output_type": "stream",
     "text": [
      "2023/06/10 19:03:36 INFO mlflow.tracking.fluent: Experiment with name 'Balancing using LGBM function' does not exist. Creating a new experiment.\n"
     ]
    },
    {
     "data": {
      "text/html": [
       "<pre style=\"white-space:pre;overflow-x:auto;line-height:normal;font-family:Menlo,'DejaVu Sans Mono',consolas,'Courier New',monospace\">Uploading files <span style=\"font-weight: bold\">(</span><span style=\"color: #008080; text-decoration-color: #008080; font-weight: bold\">2</span><span style=\"font-weight: bold\">)</span> to <span style=\"color: #008000; text-decoration-color: #008000\">\"sefirotha/OC-DS-P7_mlflow\"</span><span style=\"color: #808000; text-decoration-color: #808000\">...</span>\n",
       "</pre>\n"
      ],
      "text/plain": [
       "Uploading files \u001b[1m(\u001b[0m\u001b[1;36m2\u001b[0m\u001b[1m)\u001b[0m to \u001b[32m\"sefirotha/OC-DS-P7_mlflow\"\u001b[0m\u001b[33m...\u001b[0m\n"
      ]
     },
     "metadata": {},
     "output_type": "display_data"
    },
    {
     "data": {
      "text/html": [
       "<pre style=\"white-space:pre;overflow-x:auto;line-height:normal;font-family:Menlo,'DejaVu Sans Mono',consolas,'Courier New',monospace\">Upload finished successfully!\n",
       "</pre>\n"
      ],
      "text/plain": [
       "Upload finished successfully!\n"
      ]
     },
     "metadata": {},
     "output_type": "display_data"
    }
   ],
   "source": [
    "s = setup(data = train_df, \n",
    "          target = 'TARGET', \n",
    "          train_size = 0.8,\n",
    "          ignore_features = features_to_ignore,\n",
    "          log_data = True,\n",
    "          log_experiment = \"dagshub\",\n",
    "          experiment_name = \"Balancing using LGBM function\",\n",
    "          normalize = True,\n",
    "          normalize_method=\"robust\",\n",
    "          session_id=42)"
   ]
  },
  {
   "attachments": {
    "08f186f9-d270-40ff-a5b6-5790452146e0.png": {
     "image/png": "[encoded data removed]"
    }
   },
   "cell_type": "markdown",
   "id": "e9fc9780-d934-4a28-a59a-7cd66633e625",
   "metadata": {},
   "source": [
    "![image.png](attachment:08f186f9-d270-40ff-a5b6-5790452146e0.png)"
   ]
  },
  {
   "cell_type": "code",
   "execution_count": 19,
   "id": "42d3d8a5-252d-4c9b-b2c8-737bb1d71b18",
   "metadata": {},
   "outputs": [],
   "source": [
    "scale_pos_weight = float(8.07/91.9)"
   ]
  },
  {
   "cell_type": "code",
   "execution_count": 20,
   "id": "a9ce3659-f495-4887-bfbf-e9edcc6bc6c3",
   "metadata": {},
   "outputs": [
    {
     "data": {
      "text/html": [],
      "text/plain": [
       "<IPython.core.display.HTML object>"
      ]
     },
     "metadata": {},
     "output_type": "display_data"
    },
    {
     "data": {
      "text/html": [
       "<style type=\"text/css\">\n",
       "#T_79639_row10_col0, #T_79639_row10_col1, #T_79639_row10_col2, #T_79639_row10_col3, #T_79639_row10_col4, #T_79639_row10_col5, #T_79639_row10_col6 {\n",
       "  background: yellow;\n",
       "}\n",
       "</style>\n",
       "<table id=\"T_79639\">\n",
       "  <thead>\n",
       "    <tr>\n",
       "      <th class=\"blank level0\" >&nbsp;</th>\n",
       "      <th id=\"T_79639_level0_col0\" class=\"col_heading level0 col0\" >Accuracy</th>\n",
       "      <th id=\"T_79639_level0_col1\" class=\"col_heading level0 col1\" >AUC</th>\n",
       "      <th id=\"T_79639_level0_col2\" class=\"col_heading level0 col2\" >Recall</th>\n",
       "      <th id=\"T_79639_level0_col3\" class=\"col_heading level0 col3\" >Prec.</th>\n",
       "      <th id=\"T_79639_level0_col4\" class=\"col_heading level0 col4\" >F1</th>\n",
       "      <th id=\"T_79639_level0_col5\" class=\"col_heading level0 col5\" >Kappa</th>\n",
       "      <th id=\"T_79639_level0_col6\" class=\"col_heading level0 col6\" >MCC</th>\n",
       "    </tr>\n",
       "    <tr>\n",
       "      <th class=\"index_name level0\" >Fold</th>\n",
       "      <th class=\"blank col0\" >&nbsp;</th>\n",
       "      <th class=\"blank col1\" >&nbsp;</th>\n",
       "      <th class=\"blank col2\" >&nbsp;</th>\n",
       "      <th class=\"blank col3\" >&nbsp;</th>\n",
       "      <th class=\"blank col4\" >&nbsp;</th>\n",
       "      <th class=\"blank col5\" >&nbsp;</th>\n",
       "      <th class=\"blank col6\" >&nbsp;</th>\n",
       "    </tr>\n",
       "  </thead>\n",
       "  <tbody>\n",
       "    <tr>\n",
       "      <th id=\"T_79639_level0_row0\" class=\"row_heading level0 row0\" >0</th>\n",
       "      <td id=\"T_79639_row0_col0\" class=\"data row0 col0\" >0.9194</td>\n",
       "      <td id=\"T_79639_row0_col1\" class=\"data row0 col1\" >0.7777</td>\n",
       "      <td id=\"T_79639_row0_col2\" class=\"data row0 col2\" >0.0035</td>\n",
       "      <td id=\"T_79639_row0_col3\" class=\"data row0 col3\" >0.6364</td>\n",
       "      <td id=\"T_79639_row0_col4\" class=\"data row0 col4\" >0.0070</td>\n",
       "      <td id=\"T_79639_row0_col5\" class=\"data row0 col5\" >0.0061</td>\n",
       "      <td id=\"T_79639_row0_col6\" class=\"data row0 col6\" >0.0431</td>\n",
       "    </tr>\n",
       "    <tr>\n",
       "      <th id=\"T_79639_level0_row1\" class=\"row_heading level0 row1\" >1</th>\n",
       "      <td id=\"T_79639_row1_col0\" class=\"data row1 col0\" >0.9194</td>\n",
       "      <td id=\"T_79639_row1_col1\" class=\"data row1 col1\" >0.7697</td>\n",
       "      <td id=\"T_79639_row1_col2\" class=\"data row1 col2\" >0.0015</td>\n",
       "      <td id=\"T_79639_row1_col3\" class=\"data row1 col3\" >0.7500</td>\n",
       "      <td id=\"T_79639_row1_col4\" class=\"data row1 col4\" >0.0030</td>\n",
       "      <td id=\"T_79639_row1_col5\" class=\"data row1 col5\" >0.0027</td>\n",
       "      <td id=\"T_79639_row1_col6\" class=\"data row1 col6\" >0.0313</td>\n",
       "    </tr>\n",
       "    <tr>\n",
       "      <th id=\"T_79639_level0_row2\" class=\"row_heading level0 row2\" >2</th>\n",
       "      <td id=\"T_79639_row2_col0\" class=\"data row2 col0\" >0.9191</td>\n",
       "      <td id=\"T_79639_row2_col1\" class=\"data row2 col1\" >0.7722</td>\n",
       "      <td id=\"T_79639_row2_col2\" class=\"data row2 col2\" >0.0015</td>\n",
       "      <td id=\"T_79639_row2_col3\" class=\"data row2 col3\" >0.3333</td>\n",
       "      <td id=\"T_79639_row2_col4\" class=\"data row2 col4\" >0.0030</td>\n",
       "      <td id=\"T_79639_row2_col5\" class=\"data row2 col5\" >0.0023</td>\n",
       "      <td id=\"T_79639_row2_col6\" class=\"data row2 col6\" >0.0177</td>\n",
       "    </tr>\n",
       "    <tr>\n",
       "      <th id=\"T_79639_level0_row3\" class=\"row_heading level0 row3\" >3</th>\n",
       "      <td id=\"T_79639_row3_col0\" class=\"data row3 col0\" >0.9193</td>\n",
       "      <td id=\"T_79639_row3_col1\" class=\"data row3 col1\" >0.7666</td>\n",
       "      <td id=\"T_79639_row3_col2\" class=\"data row3 col2\" >0.0020</td>\n",
       "      <td id=\"T_79639_row3_col3\" class=\"data row3 col3\" >0.5714</td>\n",
       "      <td id=\"T_79639_row3_col4\" class=\"data row3 col4\" >0.0040</td>\n",
       "      <td id=\"T_79639_row3_col5\" class=\"data row3 col5\" >0.0034</td>\n",
       "      <td id=\"T_79639_row3_col6\" class=\"data row3 col6\" >0.0304</td>\n",
       "    </tr>\n",
       "    <tr>\n",
       "      <th id=\"T_79639_level0_row4\" class=\"row_heading level0 row4\" >4</th>\n",
       "      <td id=\"T_79639_row4_col0\" class=\"data row4 col0\" >0.9193</td>\n",
       "      <td id=\"T_79639_row4_col1\" class=\"data row4 col1\" >0.7742</td>\n",
       "      <td id=\"T_79639_row4_col2\" class=\"data row4 col2\" >0.0020</td>\n",
       "      <td id=\"T_79639_row4_col3\" class=\"data row4 col3\" >0.5714</td>\n",
       "      <td id=\"T_79639_row4_col4\" class=\"data row4 col4\" >0.0040</td>\n",
       "      <td id=\"T_79639_row4_col5\" class=\"data row4 col5\" >0.0034</td>\n",
       "      <td id=\"T_79639_row4_col6\" class=\"data row4 col6\" >0.0304</td>\n",
       "    </tr>\n",
       "    <tr>\n",
       "      <th id=\"T_79639_level0_row5\" class=\"row_heading level0 row5\" >5</th>\n",
       "      <td id=\"T_79639_row5_col0\" class=\"data row5 col0\" >0.9194</td>\n",
       "      <td id=\"T_79639_row5_col1\" class=\"data row5 col1\" >0.7742</td>\n",
       "      <td id=\"T_79639_row5_col2\" class=\"data row5 col2\" >0.0025</td>\n",
       "      <td id=\"T_79639_row5_col3\" class=\"data row5 col3\" >0.7143</td>\n",
       "      <td id=\"T_79639_row5_col4\" class=\"data row5 col4\" >0.0050</td>\n",
       "      <td id=\"T_79639_row5_col5\" class=\"data row5 col5\" >0.0045</td>\n",
       "      <td id=\"T_79639_row5_col6\" class=\"data row5 col6\" >0.0392</td>\n",
       "    </tr>\n",
       "    <tr>\n",
       "      <th id=\"T_79639_level0_row6\" class=\"row_heading level0 row6\" >6</th>\n",
       "      <td id=\"T_79639_row6_col0\" class=\"data row6 col0\" >0.9193</td>\n",
       "      <td id=\"T_79639_row6_col1\" class=\"data row6 col1\" >0.7757</td>\n",
       "      <td id=\"T_79639_row6_col2\" class=\"data row6 col2\" >0.0020</td>\n",
       "      <td id=\"T_79639_row6_col3\" class=\"data row6 col3\" >0.6667</td>\n",
       "      <td id=\"T_79639_row6_col4\" class=\"data row6 col4\" >0.0040</td>\n",
       "      <td id=\"T_79639_row6_col5\" class=\"data row6 col5\" >0.0035</td>\n",
       "      <td id=\"T_79639_row6_col6\" class=\"data row6 col6\" >0.0336</td>\n",
       "    </tr>\n",
       "    <tr>\n",
       "      <th id=\"T_79639_level0_row7\" class=\"row_heading level0 row7\" >7</th>\n",
       "      <td id=\"T_79639_row7_col0\" class=\"data row7 col0\" >0.9193</td>\n",
       "      <td id=\"T_79639_row7_col1\" class=\"data row7 col1\" >0.7775</td>\n",
       "      <td id=\"T_79639_row7_col2\" class=\"data row7 col2\" >0.0025</td>\n",
       "      <td id=\"T_79639_row7_col3\" class=\"data row7 col3\" >0.5556</td>\n",
       "      <td id=\"T_79639_row7_col4\" class=\"data row7 col4\" >0.0050</td>\n",
       "      <td id=\"T_79639_row7_col5\" class=\"data row7 col5\" >0.0043</td>\n",
       "      <td id=\"T_79639_row7_col6\" class=\"data row7 col6\" >0.0333</td>\n",
       "    </tr>\n",
       "    <tr>\n",
       "      <th id=\"T_79639_level0_row8\" class=\"row_heading level0 row8\" >8</th>\n",
       "      <td id=\"T_79639_row8_col0\" class=\"data row8 col0\" >0.9194</td>\n",
       "      <td id=\"T_79639_row8_col1\" class=\"data row8 col1\" >0.7653</td>\n",
       "      <td id=\"T_79639_row8_col2\" class=\"data row8 col2\" >0.0015</td>\n",
       "      <td id=\"T_79639_row8_col3\" class=\"data row8 col3\" >1.0000</td>\n",
       "      <td id=\"T_79639_row8_col4\" class=\"data row8 col4\" >0.0030</td>\n",
       "      <td id=\"T_79639_row8_col5\" class=\"data row8 col5\" >0.0028</td>\n",
       "      <td id=\"T_79639_row8_col6\" class=\"data row8 col6\" >0.0373</td>\n",
       "    </tr>\n",
       "    <tr>\n",
       "      <th id=\"T_79639_level0_row9\" class=\"row_heading level0 row9\" >9</th>\n",
       "      <td id=\"T_79639_row9_col0\" class=\"data row9 col0\" >0.9194</td>\n",
       "      <td id=\"T_79639_row9_col1\" class=\"data row9 col1\" >0.7711</td>\n",
       "      <td id=\"T_79639_row9_col2\" class=\"data row9 col2\" >0.0025</td>\n",
       "      <td id=\"T_79639_row9_col3\" class=\"data row9 col3\" >0.8333</td>\n",
       "      <td id=\"T_79639_row9_col4\" class=\"data row9 col4\" >0.0050</td>\n",
       "      <td id=\"T_79639_row9_col5\" class=\"data row9 col5\" >0.0045</td>\n",
       "      <td id=\"T_79639_row9_col6\" class=\"data row9 col6\" >0.0432</td>\n",
       "    </tr>\n",
       "    <tr>\n",
       "      <th id=\"T_79639_level0_row10\" class=\"row_heading level0 row10\" >Mean</th>\n",
       "      <td id=\"T_79639_row10_col0\" class=\"data row10 col0\" >0.9193</td>\n",
       "      <td id=\"T_79639_row10_col1\" class=\"data row10 col1\" >0.7724</td>\n",
       "      <td id=\"T_79639_row10_col2\" class=\"data row10 col2\" >0.0022</td>\n",
       "      <td id=\"T_79639_row10_col3\" class=\"data row10 col3\" >0.6632</td>\n",
       "      <td id=\"T_79639_row10_col4\" class=\"data row10 col4\" >0.0043</td>\n",
       "      <td id=\"T_79639_row10_col5\" class=\"data row10 col5\" >0.0038</td>\n",
       "      <td id=\"T_79639_row10_col6\" class=\"data row10 col6\" >0.0340</td>\n",
       "    </tr>\n",
       "    <tr>\n",
       "      <th id=\"T_79639_level0_row11\" class=\"row_heading level0 row11\" >Std</th>\n",
       "      <td id=\"T_79639_row11_col0\" class=\"data row11 col0\" >0.0001</td>\n",
       "      <td id=\"T_79639_row11_col1\" class=\"data row11 col1\" >0.0041</td>\n",
       "      <td id=\"T_79639_row11_col2\" class=\"data row11 col2\" >0.0006</td>\n",
       "      <td id=\"T_79639_row11_col3\" class=\"data row11 col3\" >0.1704</td>\n",
       "      <td id=\"T_79639_row11_col4\" class=\"data row11 col4\" >0.0012</td>\n",
       "      <td id=\"T_79639_row11_col5\" class=\"data row11 col5\" >0.0011</td>\n",
       "      <td id=\"T_79639_row11_col6\" class=\"data row11 col6\" >0.0071</td>\n",
       "    </tr>\n",
       "  </tbody>\n",
       "</table>\n"
      ],
      "text/plain": [
       "<pandas.io.formats.style.Styler at 0x23f90709ab0>"
      ]
     },
     "metadata": {},
     "output_type": "display_data"
    },
    {
     "data": {
      "application/vnd.jupyter.widget-view+json": {
       "model_id": "",
       "version_major": 2,
       "version_minor": 0
      },
      "text/plain": [
       "Processing:   0%|          | 0/4 [00:00<?, ?it/s]"
      ]
     },
     "metadata": {},
     "output_type": "display_data"
    }
   ],
   "source": [
    "lgbm_scale_pos_weight = create_model(\"lightgbm\", scale_pos_weight = scale_pos_weight)"
   ]
  },
  {
   "cell_type": "code",
   "execution_count": 38,
   "id": "8a81ba73-8bf4-4265-83a3-98873b9ee65b",
   "metadata": {},
   "outputs": [
    {
     "data": {
      "text/html": [
       "<style type=\"text/css\">\n",
       "</style>\n",
       "<table id=\"T_b2cd5\">\n",
       "  <thead>\n",
       "    <tr>\n",
       "      <th class=\"blank level0\" >&nbsp;</th>\n",
       "      <th id=\"T_b2cd5_level0_col0\" class=\"col_heading level0 col0\" >Model</th>\n",
       "      <th id=\"T_b2cd5_level0_col1\" class=\"col_heading level0 col1\" >Accuracy</th>\n",
       "      <th id=\"T_b2cd5_level0_col2\" class=\"col_heading level0 col2\" >AUC</th>\n",
       "      <th id=\"T_b2cd5_level0_col3\" class=\"col_heading level0 col3\" >Recall</th>\n",
       "      <th id=\"T_b2cd5_level0_col4\" class=\"col_heading level0 col4\" >Prec.</th>\n",
       "      <th id=\"T_b2cd5_level0_col5\" class=\"col_heading level0 col5\" >F1</th>\n",
       "      <th id=\"T_b2cd5_level0_col6\" class=\"col_heading level0 col6\" >Kappa</th>\n",
       "      <th id=\"T_b2cd5_level0_col7\" class=\"col_heading level0 col7\" >MCC</th>\n",
       "    </tr>\n",
       "  </thead>\n",
       "  <tbody>\n",
       "    <tr>\n",
       "      <th id=\"T_b2cd5_level0_row0\" class=\"row_heading level0 row0\" >0</th>\n",
       "      <td id=\"T_b2cd5_row0_col0\" class=\"data row0 col0\" >Light Gradient Boosting Machine</td>\n",
       "      <td id=\"T_b2cd5_row0_col1\" class=\"data row0 col1\" >0.9194</td>\n",
       "      <td id=\"T_b2cd5_row0_col2\" class=\"data row0 col2\" >0.7755</td>\n",
       "      <td id=\"T_b2cd5_row0_col3\" class=\"data row0 col3\" >0.0022</td>\n",
       "      <td id=\"T_b2cd5_row0_col4\" class=\"data row0 col4\" >0.6875</td>\n",
       "      <td id=\"T_b2cd5_row0_col5\" class=\"data row0 col5\" >0.0044</td>\n",
       "      <td id=\"T_b2cd5_row0_col6\" class=\"data row0 col6\" >0.0039</td>\n",
       "      <td id=\"T_b2cd5_row0_col7\" class=\"data row0 col7\" >0.0359</td>\n",
       "    </tr>\n",
       "  </tbody>\n",
       "</table>\n"
      ],
      "text/plain": [
       "<pandas.io.formats.style.Styler at 0x23f8ad1ac50>"
      ]
     },
     "metadata": {},
     "output_type": "display_data"
    }
   ],
   "source": [
    "lgbm_scale_pos_weight_table = predict_model(lgbm_scale_pos_weight, raw_score = True)"
   ]
  },
  {
   "cell_type": "code",
   "execution_count": 22,
   "id": "5891c55a-ca4c-4197-beff-87aeae60a6c0",
   "metadata": {},
   "outputs": [
    {
     "data": {
      "text/html": [],
      "text/plain": [
       "<IPython.core.display.HTML object>"
      ]
     },
     "metadata": {},
     "output_type": "display_data"
    },
    {
     "data": {
      "image/png": "[encoded data removed]",
      "text/plain": [
       "<Figure size 800x550 with 1 Axes>"
      ]
     },
     "metadata": {},
     "output_type": "display_data"
    }
   ],
   "source": [
    "plot_model(lgbm_scale_pos_weight, \"confusion_matrix\")"
   ]
  },
  {
   "cell_type": "code",
   "execution_count": 41,
   "id": "ad9ef289-74e8-46c5-94b9-d0aa10a77946",
   "metadata": {},
   "outputs": [
    {
     "data": {
      "text/html": [
       "<div>\n",
       "<style scoped>\n",
       "    .dataframe tbody tr th:only-of-type {\n",
       "        vertical-align: middle;\n",
       "    }\n",
       "\n",
       "    .dataframe tbody tr th {\n",
       "        vertical-align: top;\n",
       "    }\n",
       "\n",
       "    .dataframe thead th {\n",
       "        text-align: right;\n",
       "    }\n",
       "</style>\n",
       "<table border=\"1\" class=\"dataframe\">\n",
       "  <thead>\n",
       "    <tr style=\"text-align: right;\">\n",
       "      <th></th>\n",
       "      <th>category</th>\n",
       "    </tr>\n",
       "  </thead>\n",
       "  <tbody>\n",
       "    <tr>\n",
       "      <th>TN</th>\n",
       "      <td>56532</td>\n",
       "    </tr>\n",
       "    <tr>\n",
       "      <th>FN</th>\n",
       "      <td>4954</td>\n",
       "    </tr>\n",
       "    <tr>\n",
       "      <th>TP</th>\n",
       "      <td>11</td>\n",
       "    </tr>\n",
       "    <tr>\n",
       "      <th>FP</th>\n",
       "      <td>5</td>\n",
       "    </tr>\n",
       "  </tbody>\n",
       "</table>\n",
       "</div>"
      ],
      "text/plain": [
       "    category\n",
       "TN     56532\n",
       "FN      4954\n",
       "TP        11\n",
       "FP         5"
      ]
     },
     "execution_count": 41,
     "metadata": {},
     "output_type": "execute_result"
    }
   ],
   "source": [
    "outils_model.count_confusion_matrix_values(lgbm_scale_pos_weight_table, \"TARGET\", \"prediction_label\")"
   ]
  },
  {
   "cell_type": "code",
   "execution_count": 23,
   "id": "cb28439c-dc6f-41d4-bf49-26d6ffe32465",
   "metadata": {},
   "outputs": [
    {
     "data": {
      "text/html": [],
      "text/plain": [
       "<IPython.core.display.HTML object>"
      ]
     },
     "metadata": {},
     "output_type": "display_data"
    },
    {
     "data": {
      "image/png": "[encoded data removed]",
      "text/plain": [
       "<Figure size 800x550 with 2 Axes>"
      ]
     },
     "metadata": {},
     "output_type": "display_data"
    }
   ],
   "source": [
    "plot_model(lgbm_scale_pos_weight, \"class_report\")"
   ]
  },
  {
   "cell_type": "code",
   "execution_count": 24,
   "id": "474c0874-72f5-4cfc-a0c5-b605c7cf757c",
   "metadata": {},
   "outputs": [
    {
     "name": "stdout",
     "output_type": "stream",
     "text": [
      "Transformation Pipeline and Model Successfully Saved\n"
     ]
    },
    {
     "data": {
      "text/html": [
       "<pre style=\"white-space:pre;overflow-x:auto;line-height:normal;font-family:Menlo,'DejaVu Sans Mono',consolas,'Courier New',monospace\">Uploading files <span style=\"font-weight: bold\">(</span><span style=\"color: #008080; text-decoration-color: #008080; font-weight: bold\">1</span><span style=\"font-weight: bold\">)</span> to <span style=\"color: #008000; text-decoration-color: #008000\">\"sefirotha/OC-DS-P7_mlflow\"</span><span style=\"color: #808000; text-decoration-color: #808000\">...</span>\n",
       "</pre>\n"
      ],
      "text/plain": [
       "Uploading files \u001b[1m(\u001b[0m\u001b[1;36m1\u001b[0m\u001b[1m)\u001b[0m to \u001b[32m\"sefirotha/OC-DS-P7_mlflow\"\u001b[0m\u001b[33m...\u001b[0m\n"
      ]
     },
     "metadata": {},
     "output_type": "display_data"
    },
    {
     "data": {
      "text/html": [
       "<pre style=\"white-space:pre;overflow-x:auto;line-height:normal;font-family:Menlo,'DejaVu Sans Mono',consolas,'Courier New',monospace\">Upload finished successfully!\n",
       "</pre>\n"
      ],
      "text/plain": [
       "Upload finished successfully!\n"
      ]
     },
     "metadata": {},
     "output_type": "display_data"
    },
    {
     "data": {
      "text/plain": [
       "(Pipeline(memory=FastMemory(location=C:\\Users\\EBERTH~1\\AppData\\Local\\Temp\\joblib),\n",
       "          steps=[('numerical_imputer',\n",
       "                  TransformerWrapper(exclude=None,\n",
       "                                     include=['CODE_GENDER', 'FLAG_OWN_CAR',\n",
       "                                              'FLAG_OWN_REALTY', 'CNT_CHILDREN',\n",
       "                                              'AMT_CREDIT', 'AMT_ANNUITY',\n",
       "                                              'AMT_GOODS_PRICE',\n",
       "                                              'REGION_POPULATION_RELATIVE',\n",
       "                                              'DAYS_BIRTH', 'DAYS_EMPLOYED',\n",
       "                                              'DAYS_REGISTRATION',\n",
       "                                              'DAYS_ID_PUBLIS...\n",
       "                                 colsample_bytree=1.0, importance_type='split',\n",
       "                                 learning_rate=0.1, max_depth=-1,\n",
       "                                 min_child_samples=20, min_child_weight=0.001,\n",
       "                                 min_split_gain=0.0, n_estimators=100, n_jobs=-1,\n",
       "                                 num_leaves=31, objective=None, random_state=42,\n",
       "                                 reg_alpha=0.0, reg_lambda=0.0,\n",
       "                                 scale_pos_weight=0.08781284004352558,\n",
       "                                 silent='warn', subsample=1.0,\n",
       "                                 subsample_for_bin=200000, subsample_freq=0))],\n",
       "          verbose=False),\n",
       " 'test_lgbm_scale_pos_weight.pkl')"
      ]
     },
     "execution_count": 24,
     "metadata": {},
     "output_type": "execute_result"
    }
   ],
   "source": [
    "save_model(lgbm_scale_pos_weight, \"test_lgbm_scale_pos_weight\")"
   ]
  },
  {
   "cell_type": "code",
   "execution_count": 25,
   "id": "0ef477fe-1285-423f-bf4b-a33bdd42b36f",
   "metadata": {},
   "outputs": [
    {
     "data": {
      "text/html": [],
      "text/plain": [
       "<IPython.core.display.HTML object>"
      ]
     },
     "metadata": {},
     "output_type": "display_data"
    },
    {
     "data": {
      "text/html": [
       "<style type=\"text/css\">\n",
       "#T_485e3_row10_col0, #T_485e3_row10_col1, #T_485e3_row10_col2, #T_485e3_row10_col3, #T_485e3_row10_col4, #T_485e3_row10_col5, #T_485e3_row10_col6 {\n",
       "  background: yellow;\n",
       "}\n",
       "</style>\n",
       "<table id=\"T_485e3\">\n",
       "  <thead>\n",
       "    <tr>\n",
       "      <th class=\"blank level0\" >&nbsp;</th>\n",
       "      <th id=\"T_485e3_level0_col0\" class=\"col_heading level0 col0\" >Accuracy</th>\n",
       "      <th id=\"T_485e3_level0_col1\" class=\"col_heading level0 col1\" >AUC</th>\n",
       "      <th id=\"T_485e3_level0_col2\" class=\"col_heading level0 col2\" >Recall</th>\n",
       "      <th id=\"T_485e3_level0_col3\" class=\"col_heading level0 col3\" >Prec.</th>\n",
       "      <th id=\"T_485e3_level0_col4\" class=\"col_heading level0 col4\" >F1</th>\n",
       "      <th id=\"T_485e3_level0_col5\" class=\"col_heading level0 col5\" >Kappa</th>\n",
       "      <th id=\"T_485e3_level0_col6\" class=\"col_heading level0 col6\" >MCC</th>\n",
       "    </tr>\n",
       "    <tr>\n",
       "      <th class=\"index_name level0\" >Fold</th>\n",
       "      <th class=\"blank col0\" >&nbsp;</th>\n",
       "      <th class=\"blank col1\" >&nbsp;</th>\n",
       "      <th class=\"blank col2\" >&nbsp;</th>\n",
       "      <th class=\"blank col3\" >&nbsp;</th>\n",
       "      <th class=\"blank col4\" >&nbsp;</th>\n",
       "      <th class=\"blank col5\" >&nbsp;</th>\n",
       "      <th class=\"blank col6\" >&nbsp;</th>\n",
       "    </tr>\n",
       "  </thead>\n",
       "  <tbody>\n",
       "    <tr>\n",
       "      <th id=\"T_485e3_level0_row0\" class=\"row_heading level0 row0\" >0</th>\n",
       "      <td id=\"T_485e3_row0_col0\" class=\"data row0 col0\" >0.7239</td>\n",
       "      <td id=\"T_485e3_row0_col1\" class=\"data row0 col1\" >0.7824</td>\n",
       "      <td id=\"T_485e3_row0_col2\" class=\"data row0 col2\" >0.6974</td>\n",
       "      <td id=\"T_485e3_row0_col3\" class=\"data row0 col3\" >0.1828</td>\n",
       "      <td id=\"T_485e3_row0_col4\" class=\"data row0 col4\" >0.2897</td>\n",
       "      <td id=\"T_485e3_row0_col5\" class=\"data row0 col5\" >0.1855</td>\n",
       "      <td id=\"T_485e3_row0_col6\" class=\"data row0 col6\" >0.2500</td>\n",
       "    </tr>\n",
       "    <tr>\n",
       "      <th id=\"T_485e3_level0_row1\" class=\"row_heading level0 row1\" >1</th>\n",
       "      <td id=\"T_485e3_row1_col0\" class=\"data row1 col0\" >0.7246</td>\n",
       "      <td id=\"T_485e3_row1_col1\" class=\"data row1 col1\" >0.7750</td>\n",
       "      <td id=\"T_485e3_row1_col2\" class=\"data row1 col2\" >0.6868</td>\n",
       "      <td id=\"T_485e3_row1_col3\" class=\"data row1 col3\" >0.1815</td>\n",
       "      <td id=\"T_485e3_row1_col4\" class=\"data row1 col4\" >0.2871</td>\n",
       "      <td id=\"T_485e3_row1_col5\" class=\"data row1 col5\" >0.1827</td>\n",
       "      <td id=\"T_485e3_row1_col6\" class=\"data row1 col6\" >0.2453</td>\n",
       "    </tr>\n",
       "    <tr>\n",
       "      <th id=\"T_485e3_level0_row2\" class=\"row_heading level0 row2\" >2</th>\n",
       "      <td id=\"T_485e3_row2_col0\" class=\"data row2 col0\" >0.7298</td>\n",
       "      <td id=\"T_485e3_row2_col1\" class=\"data row2 col1\" >0.7788</td>\n",
       "      <td id=\"T_485e3_row2_col2\" class=\"data row2 col2\" >0.6813</td>\n",
       "      <td id=\"T_485e3_row2_col3\" class=\"data row2 col3\" >0.1837</td>\n",
       "      <td id=\"T_485e3_row2_col4\" class=\"data row2 col4\" >0.2893</td>\n",
       "      <td id=\"T_485e3_row2_col5\" class=\"data row2 col5\" >0.1858</td>\n",
       "      <td id=\"T_485e3_row2_col6\" class=\"data row2 col6\" >0.2471</td>\n",
       "    </tr>\n",
       "    <tr>\n",
       "      <th id=\"T_485e3_level0_row3\" class=\"row_heading level0 row3\" >3</th>\n",
       "      <td id=\"T_485e3_row3_col0\" class=\"data row3 col0\" >0.7218</td>\n",
       "      <td id=\"T_485e3_row3_col1\" class=\"data row3 col1\" >0.7718</td>\n",
       "      <td id=\"T_485e3_row3_col2\" class=\"data row3 col2\" >0.6793</td>\n",
       "      <td id=\"T_485e3_row3_col3\" class=\"data row3 col3\" >0.1785</td>\n",
       "      <td id=\"T_485e3_row3_col4\" class=\"data row3 col4\" >0.2827</td>\n",
       "      <td id=\"T_485e3_row3_col5\" class=\"data row3 col5\" >0.1776</td>\n",
       "      <td id=\"T_485e3_row3_col6\" class=\"data row3 col6\" >0.2390</td>\n",
       "    </tr>\n",
       "    <tr>\n",
       "      <th id=\"T_485e3_level0_row4\" class=\"row_heading level0 row4\" >4</th>\n",
       "      <td id=\"T_485e3_row4_col0\" class=\"data row4 col0\" >0.7304</td>\n",
       "      <td id=\"T_485e3_row4_col1\" class=\"data row4 col1\" >0.7823</td>\n",
       "      <td id=\"T_485e3_row4_col2\" class=\"data row4 col2\" >0.6979</td>\n",
       "      <td id=\"T_485e3_row4_col3\" class=\"data row4 col3\" >0.1868</td>\n",
       "      <td id=\"T_485e3_row4_col4\" class=\"data row4 col4\" >0.2948</td>\n",
       "      <td id=\"T_485e3_row4_col5\" class=\"data row4 col5\" >0.1918</td>\n",
       "      <td id=\"T_485e3_row4_col6\" class=\"data row4 col6\" >0.2559</td>\n",
       "    </tr>\n",
       "    <tr>\n",
       "      <th id=\"T_485e3_level0_row5\" class=\"row_heading level0 row5\" >5</th>\n",
       "      <td id=\"T_485e3_row5_col0\" class=\"data row5 col0\" >0.7237</td>\n",
       "      <td id=\"T_485e3_row5_col1\" class=\"data row5 col1\" >0.7786</td>\n",
       "      <td id=\"T_485e3_row5_col2\" class=\"data row5 col2\" >0.6893</td>\n",
       "      <td id=\"T_485e3_row5_col3\" class=\"data row5 col3\" >0.1813</td>\n",
       "      <td id=\"T_485e3_row5_col4\" class=\"data row5 col4\" >0.2872</td>\n",
       "      <td id=\"T_485e3_row5_col5\" class=\"data row5 col5\" >0.1827</td>\n",
       "      <td id=\"T_485e3_row5_col6\" class=\"data row5 col6\" >0.2458</td>\n",
       "    </tr>\n",
       "    <tr>\n",
       "      <th id=\"T_485e3_level0_row6\" class=\"row_heading level0 row6\" >6</th>\n",
       "      <td id=\"T_485e3_row6_col0\" class=\"data row6 col0\" >0.7265</td>\n",
       "      <td id=\"T_485e3_row6_col1\" class=\"data row6 col1\" >0.7818</td>\n",
       "      <td id=\"T_485e3_row6_col2\" class=\"data row6 col2\" >0.6969</td>\n",
       "      <td id=\"T_485e3_row6_col3\" class=\"data row6 col3\" >0.1843</td>\n",
       "      <td id=\"T_485e3_row6_col4\" class=\"data row6 col4\" >0.2915</td>\n",
       "      <td id=\"T_485e3_row6_col5\" class=\"data row6 col5\" >0.1878</td>\n",
       "      <td id=\"T_485e3_row6_col6\" class=\"data row6 col6\" >0.2520</td>\n",
       "    </tr>\n",
       "    <tr>\n",
       "      <th id=\"T_485e3_level0_row7\" class=\"row_heading level0 row7\" >7</th>\n",
       "      <td id=\"T_485e3_row7_col0\" class=\"data row7 col0\" >0.7196</td>\n",
       "      <td id=\"T_485e3_row7_col1\" class=\"data row7 col1\" >0.7828</td>\n",
       "      <td id=\"T_485e3_row7_col2\" class=\"data row7 col2\" >0.7054</td>\n",
       "      <td id=\"T_485e3_row7_col3\" class=\"data row7 col3\" >0.1816</td>\n",
       "      <td id=\"T_485e3_row7_col4\" class=\"data row7 col4\" >0.2889</td>\n",
       "      <td id=\"T_485e3_row7_col5\" class=\"data row7 col5\" >0.1841</td>\n",
       "      <td id=\"T_485e3_row7_col6\" class=\"data row7 col6\" >0.2503</td>\n",
       "    </tr>\n",
       "    <tr>\n",
       "      <th id=\"T_485e3_level0_row8\" class=\"row_heading level0 row8\" >8</th>\n",
       "      <td id=\"T_485e3_row8_col0\" class=\"data row8 col0\" >0.7284</td>\n",
       "      <td id=\"T_485e3_row8_col1\" class=\"data row8 col1\" >0.7703</td>\n",
       "      <td id=\"T_485e3_row8_col2\" class=\"data row8 col2\" >0.6767</td>\n",
       "      <td id=\"T_485e3_row8_col3\" class=\"data row8 col3\" >0.1820</td>\n",
       "      <td id=\"T_485e3_row8_col4\" class=\"data row8 col4\" >0.2869</td>\n",
       "      <td id=\"T_485e3_row8_col5\" class=\"data row8 col5\" >0.1829</td>\n",
       "      <td id=\"T_485e3_row8_col6\" class=\"data row8 col6\" >0.2435</td>\n",
       "    </tr>\n",
       "    <tr>\n",
       "      <th id=\"T_485e3_level0_row9\" class=\"row_heading level0 row9\" >9</th>\n",
       "      <td id=\"T_485e3_row9_col0\" class=\"data row9 col0\" >0.7265</td>\n",
       "      <td id=\"T_485e3_row9_col1\" class=\"data row9 col1\" >0.7779</td>\n",
       "      <td id=\"T_485e3_row9_col2\" class=\"data row9 col2\" >0.6823</td>\n",
       "      <td id=\"T_485e3_row9_col3\" class=\"data row9 col3\" >0.1818</td>\n",
       "      <td id=\"T_485e3_row9_col4\" class=\"data row9 col4\" >0.2871</td>\n",
       "      <td id=\"T_485e3_row9_col5\" class=\"data row9 col5\" >0.1829</td>\n",
       "      <td id=\"T_485e3_row9_col6\" class=\"data row9 col6\" >0.2446</td>\n",
       "    </tr>\n",
       "    <tr>\n",
       "      <th id=\"T_485e3_level0_row10\" class=\"row_heading level0 row10\" >Mean</th>\n",
       "      <td id=\"T_485e3_row10_col0\" class=\"data row10 col0\" >0.7255</td>\n",
       "      <td id=\"T_485e3_row10_col1\" class=\"data row10 col1\" >0.7782</td>\n",
       "      <td id=\"T_485e3_row10_col2\" class=\"data row10 col2\" >0.6893</td>\n",
       "      <td id=\"T_485e3_row10_col3\" class=\"data row10 col3\" >0.1824</td>\n",
       "      <td id=\"T_485e3_row10_col4\" class=\"data row10 col4\" >0.2885</td>\n",
       "      <td id=\"T_485e3_row10_col5\" class=\"data row10 col5\" >0.1844</td>\n",
       "      <td id=\"T_485e3_row10_col6\" class=\"data row10 col6\" >0.2473</td>\n",
       "    </tr>\n",
       "    <tr>\n",
       "      <th id=\"T_485e3_level0_row11\" class=\"row_heading level0 row11\" >Std</th>\n",
       "      <td id=\"T_485e3_row11_col0\" class=\"data row11 col0\" >0.0033</td>\n",
       "      <td id=\"T_485e3_row11_col1\" class=\"data row11 col1\" >0.0043</td>\n",
       "      <td id=\"T_485e3_row11_col2\" class=\"data row11 col2\" >0.0091</td>\n",
       "      <td id=\"T_485e3_row11_col3\" class=\"data row11 col3\" >0.0021</td>\n",
       "      <td id=\"T_485e3_row11_col4\" class=\"data row11 col4\" >0.0030</td>\n",
       "      <td id=\"T_485e3_row11_col5\" class=\"data row11 col5\" >0.0036</td>\n",
       "      <td id=\"T_485e3_row11_col6\" class=\"data row11 col6\" >0.0046</td>\n",
       "    </tr>\n",
       "  </tbody>\n",
       "</table>\n"
      ],
      "text/plain": [
       "<pandas.io.formats.style.Styler at 0x23f90709ab0>"
      ]
     },
     "metadata": {},
     "output_type": "display_data"
    },
    {
     "data": {
      "application/vnd.jupyter.widget-view+json": {
       "model_id": "",
       "version_major": 2,
       "version_minor": 0
      },
      "text/plain": [
       "Processing:   0%|          | 0/4 [00:00<?, ?it/s]"
      ]
     },
     "metadata": {},
     "output_type": "display_data"
    }
   ],
   "source": [
    "lgbm_class_weight = create_model(\"lightgbm\", class_weight  = \"balanced\")"
   ]
  },
  {
   "cell_type": "code",
   "execution_count": 39,
   "id": "8dd63319-425c-4912-af86-e8811907a48e",
   "metadata": {},
   "outputs": [
    {
     "data": {
      "text/html": [
       "<style type=\"text/css\">\n",
       "</style>\n",
       "<table id=\"T_70f39\">\n",
       "  <thead>\n",
       "    <tr>\n",
       "      <th class=\"blank level0\" >&nbsp;</th>\n",
       "      <th id=\"T_70f39_level0_col0\" class=\"col_heading level0 col0\" >Model</th>\n",
       "      <th id=\"T_70f39_level0_col1\" class=\"col_heading level0 col1\" >Accuracy</th>\n",
       "      <th id=\"T_70f39_level0_col2\" class=\"col_heading level0 col2\" >AUC</th>\n",
       "      <th id=\"T_70f39_level0_col3\" class=\"col_heading level0 col3\" >Recall</th>\n",
       "      <th id=\"T_70f39_level0_col4\" class=\"col_heading level0 col4\" >Prec.</th>\n",
       "      <th id=\"T_70f39_level0_col5\" class=\"col_heading level0 col5\" >F1</th>\n",
       "      <th id=\"T_70f39_level0_col6\" class=\"col_heading level0 col6\" >Kappa</th>\n",
       "      <th id=\"T_70f39_level0_col7\" class=\"col_heading level0 col7\" >MCC</th>\n",
       "    </tr>\n",
       "  </thead>\n",
       "  <tbody>\n",
       "    <tr>\n",
       "      <th id=\"T_70f39_level0_row0\" class=\"row_heading level0 row0\" >0</th>\n",
       "      <td id=\"T_70f39_row0_col0\" class=\"data row0 col0\" >Light Gradient Boosting Machine</td>\n",
       "      <td id=\"T_70f39_row0_col1\" class=\"data row0 col1\" >0.7264</td>\n",
       "      <td id=\"T_70f39_row0_col2\" class=\"data row0 col2\" >0.7808</td>\n",
       "      <td id=\"T_70f39_row0_col3\" class=\"data row0 col3\" >0.6922</td>\n",
       "      <td id=\"T_70f39_row0_col4\" class=\"data row0 col4\" >0.1835</td>\n",
       "      <td id=\"T_70f39_row0_col5\" class=\"data row0 col5\" >0.2900</td>\n",
       "      <td id=\"T_70f39_row0_col6\" class=\"data row0 col6\" >0.1862</td>\n",
       "      <td id=\"T_70f39_row0_col7\" class=\"data row0 col7\" >0.2496</td>\n",
       "    </tr>\n",
       "  </tbody>\n",
       "</table>\n"
      ],
      "text/plain": [
       "<pandas.io.formats.style.Styler at 0x23f90763be0>"
      ]
     },
     "metadata": {},
     "output_type": "display_data"
    }
   ],
   "source": [
    "lgbm_class_weight_table = predict_model(lgbm_class_weight, raw_score = True)"
   ]
  },
  {
   "cell_type": "code",
   "execution_count": 27,
   "id": "8b6f9d3a-538d-4fba-bddc-1ac4eee932f3",
   "metadata": {},
   "outputs": [
    {
     "data": {
      "text/html": [],
      "text/plain": [
       "<IPython.core.display.HTML object>"
      ]
     },
     "metadata": {},
     "output_type": "display_data"
    },
    {
     "data": {
      "image/png": "[encoded data removed]",
      "text/plain": [
       "<Figure size 800x550 with 1 Axes>"
      ]
     },
     "metadata": {},
     "output_type": "display_data"
    }
   ],
   "source": [
    "plot_model(lgbm_class_weight, \"confusion_matrix\")"
   ]
  },
  {
   "cell_type": "code",
   "execution_count": 29,
   "id": "6bc58089-8b48-4417-8fc8-da291df97b53",
   "metadata": {},
   "outputs": [
    {
     "name": "stdout",
     "output_type": "stream",
     "text": [
      "Transformation Pipeline and Model Successfully Saved\n"
     ]
    },
    {
     "data": {
      "text/html": [
       "<pre style=\"white-space:pre;overflow-x:auto;line-height:normal;font-family:Menlo,'DejaVu Sans Mono',consolas,'Courier New',monospace\">Uploading files <span style=\"font-weight: bold\">(</span><span style=\"color: #008080; text-decoration-color: #008080; font-weight: bold\">1</span><span style=\"font-weight: bold\">)</span> to <span style=\"color: #008000; text-decoration-color: #008000\">\"sefirotha/OC-DS-P7_mlflow\"</span><span style=\"color: #808000; text-decoration-color: #808000\">...</span>\n",
       "</pre>\n"
      ],
      "text/plain": [
       "Uploading files \u001b[1m(\u001b[0m\u001b[1;36m1\u001b[0m\u001b[1m)\u001b[0m to \u001b[32m\"sefirotha/OC-DS-P7_mlflow\"\u001b[0m\u001b[33m...\u001b[0m\n"
      ]
     },
     "metadata": {},
     "output_type": "display_data"
    },
    {
     "data": {
      "text/html": [
       "<pre style=\"white-space:pre;overflow-x:auto;line-height:normal;font-family:Menlo,'DejaVu Sans Mono',consolas,'Courier New',monospace\">Upload finished successfully!\n",
       "</pre>\n"
      ],
      "text/plain": [
       "Upload finished successfully!\n"
      ]
     },
     "metadata": {},
     "output_type": "display_data"
    },
    {
     "data": {
      "text/plain": [
       "(Pipeline(memory=FastMemory(location=C:\\Users\\EBERTH~1\\AppData\\Local\\Temp\\joblib),\n",
       "          steps=[('numerical_imputer',\n",
       "                  TransformerWrapper(exclude=None,\n",
       "                                     include=['CODE_GENDER', 'FLAG_OWN_CAR',\n",
       "                                              'FLAG_OWN_REALTY', 'CNT_CHILDREN',\n",
       "                                              'AMT_CREDIT', 'AMT_ANNUITY',\n",
       "                                              'AMT_GOODS_PRICE',\n",
       "                                              'REGION_POPULATION_RELATIVE',\n",
       "                                              'DAYS_BIRTH', 'DAYS_EMPLOYED',\n",
       "                                              'DAYS_REGISTRATION',\n",
       "                                              'DAYS_ID_PUBLIS...\n",
       "                  LGBMClassifier(boosting_type='gbdt', class_weight='balanced',\n",
       "                                 colsample_bytree=1.0, importance_type='split',\n",
       "                                 learning_rate=0.1, max_depth=-1,\n",
       "                                 min_child_samples=20, min_child_weight=0.001,\n",
       "                                 min_split_gain=0.0, n_estimators=100, n_jobs=-1,\n",
       "                                 num_leaves=31, objective=None, random_state=42,\n",
       "                                 reg_alpha=0.0, reg_lambda=0.0, silent='warn',\n",
       "                                 subsample=1.0, subsample_for_bin=200000,\n",
       "                                 subsample_freq=0))],\n",
       "          verbose=False),\n",
       " 'test_lgbm_class_weight.pkl')"
      ]
     },
     "execution_count": 29,
     "metadata": {},
     "output_type": "execute_result"
    }
   ],
   "source": [
    "save_model(lgbm_class_weight, \"test_lgbm_class_weight\")"
   ]
  },
  {
   "cell_type": "code",
   "execution_count": 42,
   "id": "d6ef43ec-d2c5-42f1-8935-c7e1bffb3164",
   "metadata": {},
   "outputs": [
    {
     "data": {
      "text/html": [
       "<div>\n",
       "<style scoped>\n",
       "    .dataframe tbody tr th:only-of-type {\n",
       "        vertical-align: middle;\n",
       "    }\n",
       "\n",
       "    .dataframe tbody tr th {\n",
       "        vertical-align: top;\n",
       "    }\n",
       "\n",
       "    .dataframe thead th {\n",
       "        text-align: right;\n",
       "    }\n",
       "</style>\n",
       "<table border=\"1\" class=\"dataframe\">\n",
       "  <thead>\n",
       "    <tr style=\"text-align: right;\">\n",
       "      <th></th>\n",
       "      <th>category</th>\n",
       "    </tr>\n",
       "  </thead>\n",
       "  <tbody>\n",
       "    <tr>\n",
       "      <th>TN</th>\n",
       "      <td>41239</td>\n",
       "    </tr>\n",
       "    <tr>\n",
       "      <th>FP</th>\n",
       "      <td>15298</td>\n",
       "    </tr>\n",
       "    <tr>\n",
       "      <th>TP</th>\n",
       "      <td>3437</td>\n",
       "    </tr>\n",
       "    <tr>\n",
       "      <th>FN</th>\n",
       "      <td>1528</td>\n",
       "    </tr>\n",
       "  </tbody>\n",
       "</table>\n",
       "</div>"
      ],
      "text/plain": [
       "    category\n",
       "TN     41239\n",
       "FP     15298\n",
       "TP      3437\n",
       "FN      1528"
      ]
     },
     "execution_count": 42,
     "metadata": {},
     "output_type": "execute_result"
    }
   ],
   "source": [
    "outils_model.count_confusion_matrix_values(lgbm_class_weight_table, \"TARGET\", \"prediction_label\")"
   ]
  },
  {
   "cell_type": "code",
   "execution_count": 28,
   "id": "c0cd0ae9-eccc-4ed0-8bff-23c68f2b76c8",
   "metadata": {},
   "outputs": [
    {
     "data": {
      "text/html": [],
      "text/plain": [
       "<IPython.core.display.HTML object>"
      ]
     },
     "metadata": {},
     "output_type": "display_data"
    },
    {
     "data": {
      "image/png": "[encoded data removed]",
      "text/plain": [
       "<Figure size 800x550 with 2 Axes>"
      ]
     },
     "metadata": {},
     "output_type": "display_data"
    }
   ],
   "source": [
    "plot_model(lgbm_class_weight, \"class_report\")"
   ]
  },
  {
   "cell_type": "code",
   "execution_count": 30,
   "id": "667da44b-3286-4cee-b5ca-41a4e1c892d6",
   "metadata": {},
   "outputs": [],
   "source": [
    "mlflow.end_run()"
   ]
  }
 ],
 "metadata": {
  "kernelspec": {
   "display_name": "pycaret",
   "language": "python",
   "name": "pycaret"
  },
  "language_info": {
   "codemirror_mode": {
    "name": "ipython",
    "version": 3
   },
   "file_extension": ".py",
   "mimetype": "text/x-python",
   "name": "python",
   "nbconvert_exporter": "python",
   "pygments_lexer": "ipython3",
   "version": "3.10.11"
  }
 },
 "nbformat": 4,
 "nbformat_minor": 5
}
