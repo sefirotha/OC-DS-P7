{
 "cells": [
  {
   "cell_type": "markdown",
   "id": "75fea4ee-039d-444f-a1f6-5c95efddc4e3",
   "metadata": {},
   "source": [
    "# <a id='1'>0. Sommaire</a>"
   ]
  },
  {
   "cell_type": "markdown",
   "id": "4544ecc1-cb43-4ba8-bee1-d97c34d4c028",
   "metadata": {},
   "source": [
    "# <a id='1'>1. Librairies\n",
    "</a>"
   ]
  },
  {
   "cell_type": "code",
   "execution_count": 13,
   "id": "5c85c266-545e-432f-ab13-7b00317085ab",
   "metadata": {},
   "outputs": [],
   "source": [
    "from sklearn.feature_selection import SequentialFeatureSelector\n",
    "import lightgbm as lgb\n"
   ]
  },
  {
   "cell_type": "markdown",
   "id": "7b8258cb-ab21-4fa1-b196-628a9c959151",
   "metadata": {},
   "source": [
    "# <a id='1'>3. Data</a>"
   ]
  },
  {
   "cell_type": "code",
   "execution_count": 3,
   "id": "58e7df0e-a295-45a9-898e-d72497bdb10e",
   "metadata": {},
   "outputs": [],
   "source": [
    "df = pd.read_pickle(\"df_final_prot5.pkl\")"
   ]
  },
  {
   "cell_type": "code",
   "execution_count": 4,
   "id": "5685033f-a422-4bc8-8d77-8926266b47cb",
   "metadata": {},
   "outputs": [],
   "source": [
    "train_df = df[df['TARGET'].notnull()]\n",
    "test_df = df[df['TARGET'].isnull()]"
   ]
  },
  {
   "cell_type": "code",
   "execution_count": 20,
   "id": "4a3c9942-53d2-4e8f-91d1-0855aebc6a80",
   "metadata": {},
   "outputs": [],
   "source": [
    "X = train_df[X_col]"
   ]
  },
  {
   "cell_type": "code",
   "execution_count": 17,
   "id": "45a3fe58-f44e-4d25-a2b3-b35d052061d8",
   "metadata": {},
   "outputs": [],
   "source": [
    "y = train_df[\"TARGET\"]"
   ]
  },
  {
   "cell_type": "code",
   "execution_count": 22,
   "id": "2e6ba220-6b47-4248-9657-7703a83e5b26",
   "metadata": {},
   "outputs": [],
   "source": [
    "sfs_selector = SequentialFeatureSelector(estimator=lgb.LGBMClassifier(), n_features_to_select = 3, cv =10, direction ='backward')"
   ]
  },
  {
   "cell_type": "code",
   "execution_count": null,
   "id": "792ae182-43c8-4453-843f-4c583050ea60",
   "metadata": {},
   "outputs": [],
   "source": [
    "sfs_selector.fit(X, y)\n",
    "X.columns[sfs_selector.get_support()]"
   ]
  }
 ],
 "metadata": {
  "kernelspec": {
   "display_name": "Python 3 (ipykernel)",
   "language": "python",
   "name": "python3"
  },
  "language_info": {
   "codemirror_mode": {
    "name": "ipython",
    "version": 3
   },
   "file_extension": ".py",
   "mimetype": "text/x-python",
   "name": "python",
   "nbconvert_exporter": "python",
   "pygments_lexer": "ipython3",
   "version": "3.10.9"
  }
 },
 "nbformat": 4,
 "nbformat_minor": 5
}
