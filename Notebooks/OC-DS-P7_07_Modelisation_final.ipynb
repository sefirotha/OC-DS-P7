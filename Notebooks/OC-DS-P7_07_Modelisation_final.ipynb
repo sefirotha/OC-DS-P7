{
 "cells": [
  {
   "cell_type": "markdown",
   "id": "2e6ef5b1-7541-456d-9dec-e61122e13733",
   "metadata": {},
   "source": [
    "# <a id='1'>0. Sommaire</a>"
   ]
  },
  {
   "cell_type": "markdown",
   "id": "4b517520-b18f-4e16-bddd-b8209e01f629",
   "metadata": {},
   "source": [
    "- <a href='#1'>0. Sommaire</a>  \n",
    "- <a href='#2'>1. Librairies</a>\n",
    "- <a href='#3'>2. Paramètres MLFLOW</a>\n",
    "- <a href='#4'>3. Data</a>\n",
    "- <a href='#5'>4. Modelisation</a>"
   ]
  },
  {
   "cell_type": "markdown",
   "id": "b284ea74-b005-4b24-931a-e331e0cce96a",
   "metadata": {},
   "source": [
    "# <a id='1'>1. Librairies</a>"
   ]
  },
  {
   "cell_type": "code",
   "execution_count": 15,
   "id": "5dcf6ebe-d303-477c-bec4-756db3645e2f",
   "metadata": {},
   "outputs": [],
   "source": [
    "import os\n",
    "\n",
    "import lightgbm_with_simple_features as fe\n",
    "from importlib import reload\n",
    "\n",
    "\n",
    "import numpy as np\n",
    "import pandas as pd\n",
    "import pickle\n",
    "import mlflow\n",
    "import dagshub\n",
    "import verstack\n",
    "from sklearn.metrics import fbeta_score, make_scorer\n",
    "\n",
    "\n",
    "from pycaret.classification import *"
   ]
  },
  {
   "cell_type": "markdown",
   "id": "52b74089-51cc-4828-b339-a363dc0eb41a",
   "metadata": {},
   "source": [
    "# <a id='2'>2. Paramètres MLFLOW</a>"
   ]
  },
  {
   "cell_type": "code",
   "execution_count": 2,
   "id": "556bc99d-d731-477a-9983-d7e90555e842",
   "metadata": {},
   "outputs": [
    {
     "data": {
      "text/html": [
       "<pre style=\"white-space:pre;overflow-x:auto;line-height:normal;font-family:Menlo,'DejaVu Sans Mono',consolas,'Courier New',monospace\">                                       <span style=\"font-weight: bold\">❗❗❗ AUTHORIZATION REQUIRED ❗❗❗</span>                                        \n",
       "</pre>\n"
      ],
      "text/plain": [
       "                                       \u001b[1m❗❗❗ AUTHORIZATION REQUIRED ❗❗❗\u001b[0m                                        \n"
      ]
     },
     "metadata": {},
     "output_type": "display_data"
    },
    {
     "name": "stdout",
     "output_type": "stream",
     "text": [
      "\n",
      "\n",
      "Open the following link in your browser to authorize the client:\n",
      "https://dagshub.com/login/oauth/authorize?state=54b8d1cb-433e-4d48-9a3d-67f7ad55ac67&client_id=32b60ba385aa7cecf24046d8195a71c07dd345d9657977863b52e7748e0f0f28&middleman_request_id=f3a84616b3946c8053a9e95bc214e226f85559ff271118eeb111115a61e43cf4\n",
      "\n",
      "\n"
     ]
    },
    {
     "data": {
      "text/html": [
       "<pre style=\"white-space:pre;overflow-x:auto;line-height:normal;font-family:Menlo,'DejaVu Sans Mono',consolas,'Courier New',monospace\"></pre>\n"
      ],
      "text/plain": [
       "\u001b[?25l"
      ]
     },
     "metadata": {},
     "output_type": "display_data"
    },
    {
     "data": {
      "application/vnd.jupyter.widget-view+json": {
       "model_id": "",
       "version_major": 2,
       "version_minor": 0
      },
      "text/plain": [
       "Output()"
      ]
     },
     "metadata": {},
     "output_type": "display_data"
    },
    {
     "data": {
      "text/html": [
       "<pre style=\"white-space:pre;overflow-x:auto;line-height:normal;font-family:Menlo,'DejaVu Sans Mono',consolas,'Courier New',monospace\">\n",
       "</pre>\n"
      ],
      "text/plain": [
       "\n",
       "\u001b[?25h\r",
       "\u001b[1A\u001b[2K"
      ]
     },
     "metadata": {},
     "output_type": "display_data"
    },
    {
     "data": {
      "text/html": [
       "<pre style=\"white-space:pre;overflow-x:auto;line-height:normal;font-family:Menlo,'DejaVu Sans Mono',consolas,'Courier New',monospace\">Repository initialized!\n",
       "</pre>\n"
      ],
      "text/plain": [
       "Repository initialized!\n"
      ]
     },
     "metadata": {},
     "output_type": "display_data"
    },
    {
     "data": {
      "text/plain": [
       "<ActiveRun: >"
      ]
     },
     "execution_count": 2,
     "metadata": {},
     "output_type": "execute_result"
    }
   ],
   "source": [
    "dagshub.init(\"OC-DS-P7_mlflow\", \"sefirotha\", mlflow=True)\n",
    "mlflow.set_tracking_uri(\"https://dagshub.com/sefirotha/OC-DS-P7_mlflow.mlflow\")\n",
    "mlflow.start_run()"
   ]
  },
  {
   "cell_type": "markdown",
   "id": "d57be1d4-8621-4b5a-b845-c319fcce2e1b",
   "metadata": {},
   "source": [
    "# <a id='3'>3. Data</a>"
   ]
  },
  {
   "cell_type": "code",
   "execution_count": 4,
   "id": "dda4d83e-5a42-4a8b-aa78-e0104d085cb6",
   "metadata": {},
   "outputs": [],
   "source": [
    "df = pd.read_pickle(r\"..\\Data\\Processed_data\\df_final_prot5.pkl\")"
   ]
  },
  {
   "cell_type": "code",
   "execution_count": 7,
   "id": "774e5344-e7aa-44da-b370-6a51dbe68913",
   "metadata": {},
   "outputs": [],
   "source": [
    "with open(r'..\\Data\\Processed_data\\var_cons_df.pickle', 'rb') as f:\n",
    "    features_to_keep = pickle.load(f)"
   ]
  },
  {
   "cell_type": "code",
   "execution_count": 8,
   "id": "82cb937a-2044-4995-8e43-58aa2c9ba38f",
   "metadata": {},
   "outputs": [],
   "source": [
    "features_to_keep = features_to_keep['variables'].to_list()"
   ]
  },
  {
   "cell_type": "code",
   "execution_count": 9,
   "id": "b08ebacd-e0ed-4019-8825-d25a8d0dee85",
   "metadata": {},
   "outputs": [],
   "source": [
    "features_to_ignore = list(set(df.keys().to_list()) - set(features_to_keep))\n",
    "features_to_ignore.remove('TARGET')"
   ]
  },
  {
   "cell_type": "code",
   "execution_count": 10,
   "id": "f0c542eb-6aeb-4fa9-b1af-1922e05caab2",
   "metadata": {},
   "outputs": [],
   "source": [
    "train_df = df[df['TARGET'].notnull()]\n",
    "test_df = df[df['TARGET'].isnull()]"
   ]
  },
  {
   "cell_type": "code",
   "execution_count": 11,
   "id": "bd35f31f-8c2b-4a4a-aa58-639c16bdd72d",
   "metadata": {},
   "outputs": [],
   "source": [
    "test_df.drop('TARGET', axis = 1, inplace = True)"
   ]
  },
  {
   "cell_type": "markdown",
   "id": "52cf5e25-7da4-4c27-bd4f-8486274c2f00",
   "metadata": {},
   "source": [
    "# <a id='5'>4. Modelisation</a>"
   ]
  },
  {
   "cell_type": "code",
   "execution_count": 12,
   "id": "1b870105-536b-498f-9f14-e5ebc96bdf69",
   "metadata": {},
   "outputs": [
    {
     "data": {
      "text/html": [
       "<style type=\"text/css\">\n",
       "#T_c67e0_row9_col1, #T_c67e0_row13_col1, #T_c67e0_row15_col1 {\n",
       "  background-color: lightgreen;\n",
       "}\n",
       "</style>\n",
       "<table id=\"T_c67e0\">\n",
       "  <thead>\n",
       "    <tr>\n",
       "      <th class=\"blank level0\" >&nbsp;</th>\n",
       "      <th id=\"T_c67e0_level0_col0\" class=\"col_heading level0 col0\" >Description</th>\n",
       "      <th id=\"T_c67e0_level0_col1\" class=\"col_heading level0 col1\" >Value</th>\n",
       "    </tr>\n",
       "  </thead>\n",
       "  <tbody>\n",
       "    <tr>\n",
       "      <th id=\"T_c67e0_level0_row0\" class=\"row_heading level0 row0\" >0</th>\n",
       "      <td id=\"T_c67e0_row0_col0\" class=\"data row0 col0\" >Session id</td>\n",
       "      <td id=\"T_c67e0_row0_col1\" class=\"data row0 col1\" >42</td>\n",
       "    </tr>\n",
       "    <tr>\n",
       "      <th id=\"T_c67e0_level0_row1\" class=\"row_heading level0 row1\" >1</th>\n",
       "      <td id=\"T_c67e0_row1_col0\" class=\"data row1 col0\" >Target</td>\n",
       "      <td id=\"T_c67e0_row1_col1\" class=\"data row1 col1\" >TARGET</td>\n",
       "    </tr>\n",
       "    <tr>\n",
       "      <th id=\"T_c67e0_level0_row2\" class=\"row_heading level0 row2\" >2</th>\n",
       "      <td id=\"T_c67e0_row2_col0\" class=\"data row2 col0\" >Target type</td>\n",
       "      <td id=\"T_c67e0_row2_col1\" class=\"data row2 col1\" >Binary</td>\n",
       "    </tr>\n",
       "    <tr>\n",
       "      <th id=\"T_c67e0_level0_row3\" class=\"row_heading level0 row3\" >3</th>\n",
       "      <td id=\"T_c67e0_row3_col0\" class=\"data row3 col0\" >Original data shape</td>\n",
       "      <td id=\"T_c67e0_row3_col1\" class=\"data row3 col1\" >(307507, 546)</td>\n",
       "    </tr>\n",
       "    <tr>\n",
       "      <th id=\"T_c67e0_level0_row4\" class=\"row_heading level0 row4\" >4</th>\n",
       "      <td id=\"T_c67e0_row4_col0\" class=\"data row4 col0\" >Transformed data shape</td>\n",
       "      <td id=\"T_c67e0_row4_col1\" class=\"data row4 col1\" >(513792, 160)</td>\n",
       "    </tr>\n",
       "    <tr>\n",
       "      <th id=\"T_c67e0_level0_row5\" class=\"row_heading level0 row5\" >5</th>\n",
       "      <td id=\"T_c67e0_row5_col0\" class=\"data row5 col0\" >Transformed train set shape</td>\n",
       "      <td id=\"T_c67e0_row5_col1\" class=\"data row5 col1\" >(452290, 160)</td>\n",
       "    </tr>\n",
       "    <tr>\n",
       "      <th id=\"T_c67e0_level0_row6\" class=\"row_heading level0 row6\" >6</th>\n",
       "      <td id=\"T_c67e0_row6_col0\" class=\"data row6 col0\" >Transformed test set shape</td>\n",
       "      <td id=\"T_c67e0_row6_col1\" class=\"data row6 col1\" >(61502, 160)</td>\n",
       "    </tr>\n",
       "    <tr>\n",
       "      <th id=\"T_c67e0_level0_row7\" class=\"row_heading level0 row7\" >7</th>\n",
       "      <td id=\"T_c67e0_row7_col0\" class=\"data row7 col0\" >Ignore features</td>\n",
       "      <td id=\"T_c67e0_row7_col1\" class=\"data row7 col1\" >386</td>\n",
       "    </tr>\n",
       "    <tr>\n",
       "      <th id=\"T_c67e0_level0_row8\" class=\"row_heading level0 row8\" >8</th>\n",
       "      <td id=\"T_c67e0_row8_col0\" class=\"data row8 col0\" >Numeric features</td>\n",
       "      <td id=\"T_c67e0_row8_col1\" class=\"data row8 col1\" >159</td>\n",
       "    </tr>\n",
       "    <tr>\n",
       "      <th id=\"T_c67e0_level0_row9\" class=\"row_heading level0 row9\" >9</th>\n",
       "      <td id=\"T_c67e0_row9_col0\" class=\"data row9 col0\" >Preprocess</td>\n",
       "      <td id=\"T_c67e0_row9_col1\" class=\"data row9 col1\" >True</td>\n",
       "    </tr>\n",
       "    <tr>\n",
       "      <th id=\"T_c67e0_level0_row10\" class=\"row_heading level0 row10\" >10</th>\n",
       "      <td id=\"T_c67e0_row10_col0\" class=\"data row10 col0\" >Imputation type</td>\n",
       "      <td id=\"T_c67e0_row10_col1\" class=\"data row10 col1\" >simple</td>\n",
       "    </tr>\n",
       "    <tr>\n",
       "      <th id=\"T_c67e0_level0_row11\" class=\"row_heading level0 row11\" >11</th>\n",
       "      <td id=\"T_c67e0_row11_col0\" class=\"data row11 col0\" >Numeric imputation</td>\n",
       "      <td id=\"T_c67e0_row11_col1\" class=\"data row11 col1\" >mean</td>\n",
       "    </tr>\n",
       "    <tr>\n",
       "      <th id=\"T_c67e0_level0_row12\" class=\"row_heading level0 row12\" >12</th>\n",
       "      <td id=\"T_c67e0_row12_col0\" class=\"data row12 col0\" >Categorical imputation</td>\n",
       "      <td id=\"T_c67e0_row12_col1\" class=\"data row12 col1\" >mode</td>\n",
       "    </tr>\n",
       "    <tr>\n",
       "      <th id=\"T_c67e0_level0_row13\" class=\"row_heading level0 row13\" >13</th>\n",
       "      <td id=\"T_c67e0_row13_col0\" class=\"data row13 col0\" >Fix imbalance</td>\n",
       "      <td id=\"T_c67e0_row13_col1\" class=\"data row13 col1\" >True</td>\n",
       "    </tr>\n",
       "    <tr>\n",
       "      <th id=\"T_c67e0_level0_row14\" class=\"row_heading level0 row14\" >14</th>\n",
       "      <td id=\"T_c67e0_row14_col0\" class=\"data row14 col0\" >Fix imbalance method</td>\n",
       "      <td id=\"T_c67e0_row14_col1\" class=\"data row14 col1\" >SMOTE</td>\n",
       "    </tr>\n",
       "    <tr>\n",
       "      <th id=\"T_c67e0_level0_row15\" class=\"row_heading level0 row15\" >15</th>\n",
       "      <td id=\"T_c67e0_row15_col0\" class=\"data row15 col0\" >Normalize</td>\n",
       "      <td id=\"T_c67e0_row15_col1\" class=\"data row15 col1\" >True</td>\n",
       "    </tr>\n",
       "    <tr>\n",
       "      <th id=\"T_c67e0_level0_row16\" class=\"row_heading level0 row16\" >16</th>\n",
       "      <td id=\"T_c67e0_row16_col0\" class=\"data row16 col0\" >Normalize method</td>\n",
       "      <td id=\"T_c67e0_row16_col1\" class=\"data row16 col1\" >robust</td>\n",
       "    </tr>\n",
       "    <tr>\n",
       "      <th id=\"T_c67e0_level0_row17\" class=\"row_heading level0 row17\" >17</th>\n",
       "      <td id=\"T_c67e0_row17_col0\" class=\"data row17 col0\" >Fold Generator</td>\n",
       "      <td id=\"T_c67e0_row17_col1\" class=\"data row17 col1\" >StratifiedKFold</td>\n",
       "    </tr>\n",
       "    <tr>\n",
       "      <th id=\"T_c67e0_level0_row18\" class=\"row_heading level0 row18\" >18</th>\n",
       "      <td id=\"T_c67e0_row18_col0\" class=\"data row18 col0\" >Fold Number</td>\n",
       "      <td id=\"T_c67e0_row18_col1\" class=\"data row18 col1\" >10</td>\n",
       "    </tr>\n",
       "    <tr>\n",
       "      <th id=\"T_c67e0_level0_row19\" class=\"row_heading level0 row19\" >19</th>\n",
       "      <td id=\"T_c67e0_row19_col0\" class=\"data row19 col0\" >CPU Jobs</td>\n",
       "      <td id=\"T_c67e0_row19_col1\" class=\"data row19 col1\" >-1</td>\n",
       "    </tr>\n",
       "    <tr>\n",
       "      <th id=\"T_c67e0_level0_row20\" class=\"row_heading level0 row20\" >20</th>\n",
       "      <td id=\"T_c67e0_row20_col0\" class=\"data row20 col0\" >Use GPU</td>\n",
       "      <td id=\"T_c67e0_row20_col1\" class=\"data row20 col1\" >False</td>\n",
       "    </tr>\n",
       "    <tr>\n",
       "      <th id=\"T_c67e0_level0_row21\" class=\"row_heading level0 row21\" >21</th>\n",
       "      <td id=\"T_c67e0_row21_col0\" class=\"data row21 col0\" >Log Experiment</td>\n",
       "      <td id=\"T_c67e0_row21_col1\" class=\"data row21 col1\" >DagshubLogger</td>\n",
       "    </tr>\n",
       "    <tr>\n",
       "      <th id=\"T_c67e0_level0_row22\" class=\"row_heading level0 row22\" >22</th>\n",
       "      <td id=\"T_c67e0_row22_col0\" class=\"data row22 col0\" >Experiment Name</td>\n",
       "      <td id=\"T_c67e0_row22_col1\" class=\"data row22 col1\" >final comparison</td>\n",
       "    </tr>\n",
       "    <tr>\n",
       "      <th id=\"T_c67e0_level0_row23\" class=\"row_heading level0 row23\" >23</th>\n",
       "      <td id=\"T_c67e0_row23_col0\" class=\"data row23 col0\" >USI</td>\n",
       "      <td id=\"T_c67e0_row23_col1\" class=\"data row23 col1\" >36c3</td>\n",
       "    </tr>\n",
       "  </tbody>\n",
       "</table>\n"
      ],
      "text/plain": [
       "<pandas.io.formats.style.Styler at 0x22eab0fba90>"
      ]
     },
     "metadata": {},
     "output_type": "display_data"
    },
    {
     "name": "stdin",
     "output_type": "stream",
     "text": [
      "Please insert your repository owner_name/repo_name: sefirotha/OC-DS-P7_mlflow\n"
     ]
    },
    {
     "name": "stderr",
     "output_type": "stream",
     "text": [
      "2023/06/21 16:45:05 INFO mlflow.tracking.fluent: Experiment with name 'final comparison' does not exist. Creating a new experiment.\n"
     ]
    },
    {
     "data": {
      "text/html": [
       "<pre style=\"white-space:pre;overflow-x:auto;line-height:normal;font-family:Menlo,'DejaVu Sans Mono',consolas,'Courier New',monospace\">Uploading files <span style=\"font-weight: bold\">(</span><span style=\"color: #008080; text-decoration-color: #008080; font-weight: bold\">2</span><span style=\"font-weight: bold\">)</span> to <span style=\"color: #008000; text-decoration-color: #008000\">\"sefirotha/OC-DS-P7_mlflow\"</span><span style=\"color: #808000; text-decoration-color: #808000\">...</span>\n",
       "</pre>\n"
      ],
      "text/plain": [
       "Uploading files \u001b[1m(\u001b[0m\u001b[1;36m2\u001b[0m\u001b[1m)\u001b[0m to \u001b[32m\"sefirotha/OC-DS-P7_mlflow\"\u001b[0m\u001b[33m...\u001b[0m\n"
      ]
     },
     "metadata": {},
     "output_type": "display_data"
    },
    {
     "data": {
      "text/html": [
       "<pre style=\"white-space:pre;overflow-x:auto;line-height:normal;font-family:Menlo,'DejaVu Sans Mono',consolas,'Courier New',monospace\">Upload finished successfully!\n",
       "</pre>\n"
      ],
      "text/plain": [
       "Upload finished successfully!\n"
      ]
     },
     "metadata": {},
     "output_type": "display_data"
    }
   ],
   "source": [
    "s = setup(data = train_df, \n",
    "          target = 'TARGET', \n",
    "          train_size = 0.8,\n",
    "          ignore_features = features_to_ignore,\n",
    "          log_data = True,\n",
    "          log_experiment = \"dagshub\",\n",
    "          experiment_name = \"final comparison\",\n",
    "          normalize = True,\n",
    "          normalize_method=\"robust\",\n",
    "          fix_imbalance = True,\n",
    "          fix_imbalance_method = 'SMOTE',\n",
    "          session_id=42)"
   ]
  },
  {
   "cell_type": "code",
   "execution_count": 13,
   "id": "499139ae-4af1-44ea-a54e-a0611cce99d9",
   "metadata": {},
   "outputs": [],
   "source": [
    "def Score_Metier(y_true, y_pred):\n",
    "    # coût d'un faux positif et un faux négatif\n",
    "    cout_fp = 1\n",
    "    cout_fn = 10\n",
    "    \n",
    "    # nombre total d'exemples positifs et négatifs\n",
    "    n_pos = (y_true==1).sum()\n",
    "    n_neg = (y_true==0).sum()\n",
    "    # calcul du coût maximum possible\n",
    "    max_cout = cout_fp * n_neg + cout_fn * n_pos\n",
    "    \n",
    "    # Calcul du nombre de faux positifs et faux négatifs\n",
    "    fp = ((y_pred == 1) & (y_true == 0)).sum()\n",
    "    fn = ((y_pred == 0) & (y_true == 1)).sum()\n",
    "    \n",
    "    # calcul du coût total    \n",
    "    cout = (cout_fp * fp + cout_fn * fn)  # / (fn + fp)\n",
    "    cout_notmalise = cout/max_cout\n",
    "    score = round(1 - cout_notmalise, 2)\n",
    "    return score\n",
    "\n",
    "#score_metier = make_scorer(Score_Metier, greater_is_better=True)"
   ]
  },
  {
   "cell_type": "code",
   "execution_count": 16,
   "id": "c95134bb-3281-4bbc-b7ad-c5b189ce1e4f",
   "metadata": {},
   "outputs": [
    {
     "data": {
      "text/plain": [
       "Name                                                  Score Métier\n",
       "Display Name                                          Score Métier\n",
       "Score Function       <function Score_Metier at 0x0000022ED5624310>\n",
       "Scorer                                   make_scorer(Score_Metier)\n",
       "Target                                                        pred\n",
       "Args                                                            {}\n",
       "Greater is Better                                             True\n",
       "Multiclass                                                    True\n",
       "Custom                                                        True\n",
       "Name: score_metier, dtype: object"
      ]
     },
     "execution_count": 16,
     "metadata": {},
     "output_type": "execute_result"
    }
   ],
   "source": [
    "add_metric(\"f10\", \"F10\", fbeta_score, beta = 3.16)\n",
    "add_metric(\"score_metier\", \"Score Métier\", Score_Metier)"
   ]
  },
  {
   "cell_type": "code",
   "execution_count": 17,
   "id": "684f8b68-caa3-4fb9-b0fb-026c90571742",
   "metadata": {},
   "outputs": [
    {
     "data": {
      "text/html": [],
      "text/plain": [
       "<IPython.core.display.HTML object>"
      ]
     },
     "metadata": {},
     "output_type": "display_data"
    },
    {
     "data": {
      "text/html": [
       "<style type=\"text/css\">\n",
       "#T_e28a3 th {\n",
       "  text-align: left;\n",
       "}\n",
       "#T_e28a3_row0_col0, #T_e28a3_row0_col3, #T_e28a3_row0_col4, #T_e28a3_row0_col5, #T_e28a3_row0_col6, #T_e28a3_row0_col7, #T_e28a3_row0_col8, #T_e28a3_row0_col9, #T_e28a3_row1_col0, #T_e28a3_row1_col1, #T_e28a3_row1_col2, #T_e28a3_row1_col3, #T_e28a3_row1_col4, #T_e28a3_row1_col5, #T_e28a3_row1_col6, #T_e28a3_row1_col7, #T_e28a3_row1_col8, #T_e28a3_row1_col9, #T_e28a3_row2_col0, #T_e28a3_row2_col1, #T_e28a3_row2_col2, #T_e28a3_row2_col3, #T_e28a3_row2_col4, #T_e28a3_row2_col5, #T_e28a3_row2_col6, #T_e28a3_row2_col7, #T_e28a3_row2_col8, #T_e28a3_row2_col9, #T_e28a3_row3_col0, #T_e28a3_row3_col1, #T_e28a3_row3_col2, #T_e28a3_row3_col3, #T_e28a3_row3_col5, #T_e28a3_row3_col6, #T_e28a3_row3_col7, #T_e28a3_row3_col8, #T_e28a3_row3_col9, #T_e28a3_row4_col0, #T_e28a3_row4_col1, #T_e28a3_row4_col2, #T_e28a3_row4_col3, #T_e28a3_row4_col4, #T_e28a3_row4_col5, #T_e28a3_row4_col6, #T_e28a3_row4_col7, #T_e28a3_row4_col8, #T_e28a3_row4_col9, #T_e28a3_row5_col0, #T_e28a3_row5_col1, #T_e28a3_row5_col2, #T_e28a3_row5_col3, #T_e28a3_row5_col4, #T_e28a3_row5_col5, #T_e28a3_row5_col6, #T_e28a3_row5_col7, #T_e28a3_row5_col8, #T_e28a3_row5_col9, #T_e28a3_row6_col0, #T_e28a3_row6_col1, #T_e28a3_row6_col2, #T_e28a3_row6_col3, #T_e28a3_row6_col4, #T_e28a3_row6_col5, #T_e28a3_row6_col6, #T_e28a3_row6_col7, #T_e28a3_row6_col8, #T_e28a3_row6_col9, #T_e28a3_row7_col0, #T_e28a3_row7_col1, #T_e28a3_row7_col2, #T_e28a3_row7_col3, #T_e28a3_row7_col4, #T_e28a3_row7_col5, #T_e28a3_row7_col6, #T_e28a3_row7_col7, #T_e28a3_row7_col8, #T_e28a3_row7_col9, #T_e28a3_row8_col0, #T_e28a3_row8_col1, #T_e28a3_row8_col2, #T_e28a3_row8_col3, #T_e28a3_row8_col4, #T_e28a3_row8_col5, #T_e28a3_row8_col6, #T_e28a3_row8_col7, #T_e28a3_row8_col8, #T_e28a3_row8_col9, #T_e28a3_row9_col0, #T_e28a3_row9_col1, #T_e28a3_row9_col2, #T_e28a3_row9_col3, #T_e28a3_row9_col4, #T_e28a3_row9_col5, #T_e28a3_row9_col6, #T_e28a3_row9_col7, #T_e28a3_row9_col8, #T_e28a3_row10_col0, #T_e28a3_row10_col1, #T_e28a3_row10_col2, #T_e28a3_row10_col3, #T_e28a3_row10_col4, #T_e28a3_row11_col0, #T_e28a3_row11_col1, #T_e28a3_row11_col2, #T_e28a3_row11_col3, #T_e28a3_row11_col4, #T_e28a3_row11_col5, #T_e28a3_row11_col6, #T_e28a3_row11_col7, #T_e28a3_row11_col8, #T_e28a3_row11_col9, #T_e28a3_row12_col0, #T_e28a3_row12_col1, #T_e28a3_row12_col2, #T_e28a3_row12_col3, #T_e28a3_row12_col4, #T_e28a3_row12_col5, #T_e28a3_row12_col6, #T_e28a3_row12_col7, #T_e28a3_row12_col8, #T_e28a3_row12_col9, #T_e28a3_row13_col0, #T_e28a3_row13_col1, #T_e28a3_row13_col2, #T_e28a3_row13_col3, #T_e28a3_row13_col4, #T_e28a3_row13_col5, #T_e28a3_row13_col6, #T_e28a3_row13_col7, #T_e28a3_row13_col8, #T_e28a3_row13_col9, #T_e28a3_row14_col0, #T_e28a3_row14_col1, #T_e28a3_row14_col2, #T_e28a3_row14_col4, #T_e28a3_row14_col5, #T_e28a3_row14_col6, #T_e28a3_row14_col7, #T_e28a3_row14_col8, #T_e28a3_row14_col9 {\n",
       "  text-align: left;\n",
       "}\n",
       "#T_e28a3_row0_col1, #T_e28a3_row0_col2, #T_e28a3_row3_col4, #T_e28a3_row9_col9, #T_e28a3_row10_col5, #T_e28a3_row10_col6, #T_e28a3_row10_col7, #T_e28a3_row10_col8, #T_e28a3_row10_col9, #T_e28a3_row14_col3 {\n",
       "  text-align: left;\n",
       "  background-color: yellow;\n",
       "}\n",
       "#T_e28a3_row0_col10, #T_e28a3_row1_col10, #T_e28a3_row2_col10, #T_e28a3_row3_col10, #T_e28a3_row5_col10, #T_e28a3_row6_col10, #T_e28a3_row7_col10, #T_e28a3_row8_col10, #T_e28a3_row9_col10, #T_e28a3_row10_col10, #T_e28a3_row11_col10, #T_e28a3_row12_col10, #T_e28a3_row13_col10, #T_e28a3_row14_col10 {\n",
       "  text-align: left;\n",
       "  background-color: lightgrey;\n",
       "}\n",
       "#T_e28a3_row4_col10 {\n",
       "  text-align: left;\n",
       "  background-color: yellow;\n",
       "  background-color: lightgrey;\n",
       "}\n",
       "</style>\n",
       "<table id=\"T_e28a3\">\n",
       "  <thead>\n",
       "    <tr>\n",
       "      <th class=\"blank level0\" >&nbsp;</th>\n",
       "      <th id=\"T_e28a3_level0_col0\" class=\"col_heading level0 col0\" >Model</th>\n",
       "      <th id=\"T_e28a3_level0_col1\" class=\"col_heading level0 col1\" >Accuracy</th>\n",
       "      <th id=\"T_e28a3_level0_col2\" class=\"col_heading level0 col2\" >AUC</th>\n",
       "      <th id=\"T_e28a3_level0_col3\" class=\"col_heading level0 col3\" >Recall</th>\n",
       "      <th id=\"T_e28a3_level0_col4\" class=\"col_heading level0 col4\" >Prec.</th>\n",
       "      <th id=\"T_e28a3_level0_col5\" class=\"col_heading level0 col5\" >F1</th>\n",
       "      <th id=\"T_e28a3_level0_col6\" class=\"col_heading level0 col6\" >Kappa</th>\n",
       "      <th id=\"T_e28a3_level0_col7\" class=\"col_heading level0 col7\" >MCC</th>\n",
       "      <th id=\"T_e28a3_level0_col8\" class=\"col_heading level0 col8\" >F10</th>\n",
       "      <th id=\"T_e28a3_level0_col9\" class=\"col_heading level0 col9\" >Score Métier</th>\n",
       "      <th id=\"T_e28a3_level0_col10\" class=\"col_heading level0 col10\" >TT (Sec)</th>\n",
       "    </tr>\n",
       "  </thead>\n",
       "  <tbody>\n",
       "    <tr>\n",
       "      <th id=\"T_e28a3_level0_row0\" class=\"row_heading level0 row0\" >lightgbm</th>\n",
       "      <td id=\"T_e28a3_row0_col0\" class=\"data row0 col0\" >Light Gradient Boosting Machine</td>\n",
       "      <td id=\"T_e28a3_row0_col1\" class=\"data row0 col1\" >0.9194</td>\n",
       "      <td id=\"T_e28a3_row0_col2\" class=\"data row0 col2\" >0.7714</td>\n",
       "      <td id=\"T_e28a3_row0_col3\" class=\"data row0 col3\" >0.0222</td>\n",
       "      <td id=\"T_e28a3_row0_col4\" class=\"data row0 col4\" >0.5278</td>\n",
       "      <td id=\"T_e28a3_row0_col5\" class=\"data row0 col5\" >0.0425</td>\n",
       "      <td id=\"T_e28a3_row0_col6\" class=\"data row0 col6\" >0.0362</td>\n",
       "      <td id=\"T_e28a3_row0_col7\" class=\"data row0 col7\" >0.0956</td>\n",
       "      <td id=\"T_e28a3_row0_col8\" class=\"data row0 col8\" >0.0243</td>\n",
       "      <td id=\"T_e28a3_row0_col9\" class=\"data row0 col9\" >0.5400</td>\n",
       "      <td id=\"T_e28a3_row0_col10\" class=\"data row0 col10\" >13.5870</td>\n",
       "    </tr>\n",
       "    <tr>\n",
       "      <th id=\"T_e28a3_level0_row1\" class=\"row_heading level0 row1\" >rf</th>\n",
       "      <td id=\"T_e28a3_row1_col0\" class=\"data row1 col0\" >Random Forest Classifier</td>\n",
       "      <td id=\"T_e28a3_row1_col1\" class=\"data row1 col1\" >0.9193</td>\n",
       "      <td id=\"T_e28a3_row1_col2\" class=\"data row1 col2\" >0.7227</td>\n",
       "      <td id=\"T_e28a3_row1_col3\" class=\"data row1 col3\" >0.0025</td>\n",
       "      <td id=\"T_e28a3_row1_col4\" class=\"data row1 col4\" >0.5305</td>\n",
       "      <td id=\"T_e28a3_row1_col5\" class=\"data row1 col5\" >0.0049</td>\n",
       "      <td id=\"T_e28a3_row1_col6\" class=\"data row1 col6\" >0.0041</td>\n",
       "      <td id=\"T_e28a3_row1_col7\" class=\"data row1 col7\" >0.0313</td>\n",
       "      <td id=\"T_e28a3_row1_col8\" class=\"data row1 col8\" >0.0027</td>\n",
       "      <td id=\"T_e28a3_row1_col9\" class=\"data row1 col9\" >0.5300</td>\n",
       "      <td id=\"T_e28a3_row1_col10\" class=\"data row1 col10\" >123.6800</td>\n",
       "    </tr>\n",
       "    <tr>\n",
       "      <th id=\"T_e28a3_level0_row2\" class=\"row_heading level0 row2\" >gbc</th>\n",
       "      <td id=\"T_e28a3_row2_col0\" class=\"data row2 col0\" >Gradient Boosting Classifier</td>\n",
       "      <td id=\"T_e28a3_row2_col1\" class=\"data row2 col1\" >0.9193</td>\n",
       "      <td id=\"T_e28a3_row2_col2\" class=\"data row2 col2\" >0.7364</td>\n",
       "      <td id=\"T_e28a3_row2_col3\" class=\"data row2 col3\" >0.0075</td>\n",
       "      <td id=\"T_e28a3_row2_col4\" class=\"data row2 col4\" >0.4957</td>\n",
       "      <td id=\"T_e28a3_row2_col5\" class=\"data row2 col5\" >0.0148</td>\n",
       "      <td id=\"T_e28a3_row2_col6\" class=\"data row2 col6\" >0.0124</td>\n",
       "      <td id=\"T_e28a3_row2_col7\" class=\"data row2 col7\" >0.0527</td>\n",
       "      <td id=\"T_e28a3_row2_col8\" class=\"data row2 col8\" >0.0082</td>\n",
       "      <td id=\"T_e28a3_row2_col9\" class=\"data row2 col9\" >0.5370</td>\n",
       "      <td id=\"T_e28a3_row2_col10\" class=\"data row2 col10\" >561.4870</td>\n",
       "    </tr>\n",
       "    <tr>\n",
       "      <th id=\"T_e28a3_level0_row3\" class=\"row_heading level0 row3\" >et</th>\n",
       "      <td id=\"T_e28a3_row3_col0\" class=\"data row3 col0\" >Extra Trees Classifier</td>\n",
       "      <td id=\"T_e28a3_row3_col1\" class=\"data row3 col1\" >0.9193</td>\n",
       "      <td id=\"T_e28a3_row3_col2\" class=\"data row3 col2\" >0.7245</td>\n",
       "      <td id=\"T_e28a3_row3_col3\" class=\"data row3 col3\" >0.0028</td>\n",
       "      <td id=\"T_e28a3_row3_col4\" class=\"data row3 col4\" >0.5372</td>\n",
       "      <td id=\"T_e28a3_row3_col5\" class=\"data row3 col5\" >0.0056</td>\n",
       "      <td id=\"T_e28a3_row3_col6\" class=\"data row3 col6\" >0.0048</td>\n",
       "      <td id=\"T_e28a3_row3_col7\" class=\"data row3 col7\" >0.0342</td>\n",
       "      <td id=\"T_e28a3_row3_col8\" class=\"data row3 col8\" >0.0031</td>\n",
       "      <td id=\"T_e28a3_row3_col9\" class=\"data row3 col9\" >0.5300</td>\n",
       "      <td id=\"T_e28a3_row3_col10\" class=\"data row3 col10\" >67.2390</td>\n",
       "    </tr>\n",
       "    <tr>\n",
       "      <th id=\"T_e28a3_level0_row4\" class=\"row_heading level0 row4\" >dummy</th>\n",
       "      <td id=\"T_e28a3_row4_col0\" class=\"data row4 col0\" >Dummy Classifier</td>\n",
       "      <td id=\"T_e28a3_row4_col1\" class=\"data row4 col1\" >0.9193</td>\n",
       "      <td id=\"T_e28a3_row4_col2\" class=\"data row4 col2\" >0.5000</td>\n",
       "      <td id=\"T_e28a3_row4_col3\" class=\"data row4 col3\" >0.0000</td>\n",
       "      <td id=\"T_e28a3_row4_col4\" class=\"data row4 col4\" >0.0000</td>\n",
       "      <td id=\"T_e28a3_row4_col5\" class=\"data row4 col5\" >0.0000</td>\n",
       "      <td id=\"T_e28a3_row4_col6\" class=\"data row4 col6\" >0.0000</td>\n",
       "      <td id=\"T_e28a3_row4_col7\" class=\"data row4 col7\" >0.0000</td>\n",
       "      <td id=\"T_e28a3_row4_col8\" class=\"data row4 col8\" >0.0000</td>\n",
       "      <td id=\"T_e28a3_row4_col9\" class=\"data row4 col9\" >0.5300</td>\n",
       "      <td id=\"T_e28a3_row4_col10\" class=\"data row4 col10\" >1.9700</td>\n",
       "    </tr>\n",
       "    <tr>\n",
       "      <th id=\"T_e28a3_level0_row5\" class=\"row_heading level0 row5\" >xgboost</th>\n",
       "      <td id=\"T_e28a3_row5_col0\" class=\"data row5 col0\" >Extreme Gradient Boosting</td>\n",
       "      <td id=\"T_e28a3_row5_col1\" class=\"data row5 col1\" >0.9184</td>\n",
       "      <td id=\"T_e28a3_row5_col2\" class=\"data row5 col2\" >0.7673</td>\n",
       "      <td id=\"T_e28a3_row5_col3\" class=\"data row5 col3\" >0.0532</td>\n",
       "      <td id=\"T_e28a3_row5_col4\" class=\"data row5 col4\" >0.4568</td>\n",
       "      <td id=\"T_e28a3_row5_col5\" class=\"data row5 col5\" >0.0953</td>\n",
       "      <td id=\"T_e28a3_row5_col6\" class=\"data row5 col6\" >0.0798</td>\n",
       "      <td id=\"T_e28a3_row5_col7\" class=\"data row5 col7\" >0.1345</td>\n",
       "      <td id=\"T_e28a3_row5_col8\" class=\"data row5 col8\" >0.0579</td>\n",
       "      <td id=\"T_e28a3_row5_col9\" class=\"data row5 col9\" >0.5530</td>\n",
       "      <td id=\"T_e28a3_row5_col10\" class=\"data row5 col10\" >358.5900</td>\n",
       "    </tr>\n",
       "    <tr>\n",
       "      <th id=\"T_e28a3_level0_row6\" class=\"row_heading level0 row6\" >ada</th>\n",
       "      <td id=\"T_e28a3_row6_col0\" class=\"data row6 col0\" >Ada Boost Classifier</td>\n",
       "      <td id=\"T_e28a3_row6_col1\" class=\"data row6 col1\" >0.9110</td>\n",
       "      <td id=\"T_e28a3_row6_col2\" class=\"data row6 col2\" >0.6976</td>\n",
       "      <td id=\"T_e28a3_row6_col3\" class=\"data row6 col3\" >0.0461</td>\n",
       "      <td id=\"T_e28a3_row6_col4\" class=\"data row6 col4\" >0.2378</td>\n",
       "      <td id=\"T_e28a3_row6_col5\" class=\"data row6 col5\" >0.0769</td>\n",
       "      <td id=\"T_e28a3_row6_col6\" class=\"data row6 col6\" >0.0521</td>\n",
       "      <td id=\"T_e28a3_row6_col7\" class=\"data row6 col7\" >0.0723</td>\n",
       "      <td id=\"T_e28a3_row6_col8\" class=\"data row6 col8\" >0.0497</td>\n",
       "      <td id=\"T_e28a3_row6_col9\" class=\"data row6 col9\" >0.5470</td>\n",
       "      <td id=\"T_e28a3_row6_col10\" class=\"data row6 col10\" >106.0470</td>\n",
       "    </tr>\n",
       "    <tr>\n",
       "      <th id=\"T_e28a3_level0_row7\" class=\"row_heading level0 row7\" >dt</th>\n",
       "      <td id=\"T_e28a3_row7_col0\" class=\"data row7 col0\" >Decision Tree Classifier</td>\n",
       "      <td id=\"T_e28a3_row7_col1\" class=\"data row7 col1\" >0.8432</td>\n",
       "      <td id=\"T_e28a3_row7_col2\" class=\"data row7 col2\" >0.5383</td>\n",
       "      <td id=\"T_e28a3_row7_col3\" class=\"data row7 col3\" >0.1747</td>\n",
       "      <td id=\"T_e28a3_row7_col4\" class=\"data row7 col4\" >0.1352</td>\n",
       "      <td id=\"T_e28a3_row7_col5\" class=\"data row7 col5\" >0.1524</td>\n",
       "      <td id=\"T_e28a3_row7_col6\" class=\"data row7 col6\" >0.0676</td>\n",
       "      <td id=\"T_e28a3_row7_col7\" class=\"data row7 col7\" >0.0682</td>\n",
       "      <td id=\"T_e28a3_row7_col8\" class=\"data row7 col8\" >0.1702</td>\n",
       "      <td id=\"T_e28a3_row7_col9\" class=\"data row7 col9\" >0.5620</td>\n",
       "      <td id=\"T_e28a3_row7_col10\" class=\"data row7 col10\" >29.8630</td>\n",
       "    </tr>\n",
       "    <tr>\n",
       "      <th id=\"T_e28a3_level0_row8\" class=\"row_heading level0 row8\" >knn</th>\n",
       "      <td id=\"T_e28a3_row8_col0\" class=\"data row8 col0\" >K Neighbors Classifier</td>\n",
       "      <td id=\"T_e28a3_row8_col1\" class=\"data row8 col1\" >0.7415</td>\n",
       "      <td id=\"T_e28a3_row8_col2\" class=\"data row8 col2\" >0.5848</td>\n",
       "      <td id=\"T_e28a3_row8_col3\" class=\"data row8 col3\" >0.3350</td>\n",
       "      <td id=\"T_e28a3_row8_col4\" class=\"data row8 col4\" >0.1167</td>\n",
       "      <td id=\"T_e28a3_row8_col5\" class=\"data row8 col5\" >0.1730</td>\n",
       "      <td id=\"T_e28a3_row8_col6\" class=\"data row8 col6\" >0.0605</td>\n",
       "      <td id=\"T_e28a3_row8_col7\" class=\"data row8 col7\" >0.0724</td>\n",
       "      <td id=\"T_e28a3_row8_col8\" class=\"data row8 col8\" >0.2862</td>\n",
       "      <td id=\"T_e28a3_row8_col9\" class=\"data row8 col9\" >0.5710</td>\n",
       "      <td id=\"T_e28a3_row8_col10\" class=\"data row8 col10\" >491.9750</td>\n",
       "    </tr>\n",
       "    <tr>\n",
       "      <th id=\"T_e28a3_level0_row9\" class=\"row_heading level0 row9\" >lda</th>\n",
       "      <td id=\"T_e28a3_row9_col0\" class=\"data row9 col0\" >Linear Discriminant Analysis</td>\n",
       "      <td id=\"T_e28a3_row9_col1\" class=\"data row9 col1\" >0.7002</td>\n",
       "      <td id=\"T_e28a3_row9_col2\" class=\"data row9 col2\" >0.7610</td>\n",
       "      <td id=\"T_e28a3_row9_col3\" class=\"data row9 col3\" >0.6855</td>\n",
       "      <td id=\"T_e28a3_row9_col4\" class=\"data row9 col4\" >0.1678</td>\n",
       "      <td id=\"T_e28a3_row9_col5\" class=\"data row9 col5\" >0.2696</td>\n",
       "      <td id=\"T_e28a3_row9_col6\" class=\"data row9 col6\" >0.1608</td>\n",
       "      <td id=\"T_e28a3_row9_col7\" class=\"data row9 col7\" >0.2242</td>\n",
       "      <td id=\"T_e28a3_row9_col8\" class=\"data row9 col8\" >0.5352</td>\n",
       "      <td id=\"T_e28a3_row9_col9\" class=\"data row9 col9\" >0.6960</td>\n",
       "      <td id=\"T_e28a3_row9_col10\" class=\"data row9 col10\" >14.0140</td>\n",
       "    </tr>\n",
       "    <tr>\n",
       "      <th id=\"T_e28a3_level0_row10\" class=\"row_heading level0 row10\" >ridge</th>\n",
       "      <td id=\"T_e28a3_row10_col0\" class=\"data row10 col0\" >Ridge Classifier</td>\n",
       "      <td id=\"T_e28a3_row10_col1\" class=\"data row10 col1\" >0.7001</td>\n",
       "      <td id=\"T_e28a3_row10_col2\" class=\"data row10 col2\" >0.0000</td>\n",
       "      <td id=\"T_e28a3_row10_col3\" class=\"data row10 col3\" >0.6863</td>\n",
       "      <td id=\"T_e28a3_row10_col4\" class=\"data row10 col4\" >0.1679</td>\n",
       "      <td id=\"T_e28a3_row10_col5\" class=\"data row10 col5\" >0.2698</td>\n",
       "      <td id=\"T_e28a3_row10_col6\" class=\"data row10 col6\" >0.1610</td>\n",
       "      <td id=\"T_e28a3_row10_col7\" class=\"data row10 col7\" >0.2246</td>\n",
       "      <td id=\"T_e28a3_row10_col8\" class=\"data row10 col8\" >0.5357</td>\n",
       "      <td id=\"T_e28a3_row10_col9\" class=\"data row10 col9\" >0.6960</td>\n",
       "      <td id=\"T_e28a3_row10_col10\" class=\"data row10 col10\" >3.4370</td>\n",
       "    </tr>\n",
       "    <tr>\n",
       "      <th id=\"T_e28a3_level0_row11\" class=\"row_heading level0 row11\" >lr</th>\n",
       "      <td id=\"T_e28a3_row11_col0\" class=\"data row11 col0\" >Logistic Regression</td>\n",
       "      <td id=\"T_e28a3_row11_col1\" class=\"data row11 col1\" >0.6426</td>\n",
       "      <td id=\"T_e28a3_row11_col2\" class=\"data row11 col2\" >0.6221</td>\n",
       "      <td id=\"T_e28a3_row11_col3\" class=\"data row11 col3\" >0.5436</td>\n",
       "      <td id=\"T_e28a3_row11_col4\" class=\"data row11 col4\" >0.1207</td>\n",
       "      <td id=\"T_e28a3_row11_col5\" class=\"data row11 col5\" >0.1974</td>\n",
       "      <td id=\"T_e28a3_row11_col6\" class=\"data row11 col6\" >0.0753</td>\n",
       "      <td id=\"T_e28a3_row11_col7\" class=\"data row11 col7\" >0.1106</td>\n",
       "      <td id=\"T_e28a3_row11_col8\" class=\"data row11 col8\" >0.4116</td>\n",
       "      <td id=\"T_e28a3_row11_col9\" class=\"data row11 col9\" >0.6020</td>\n",
       "      <td id=\"T_e28a3_row11_col10\" class=\"data row11 col10\" >73.8910</td>\n",
       "    </tr>\n",
       "    <tr>\n",
       "      <th id=\"T_e28a3_level0_row12\" class=\"row_heading level0 row12\" >svm</th>\n",
       "      <td id=\"T_e28a3_row12_col0\" class=\"data row12 col0\" >SVM - Linear Kernel</td>\n",
       "      <td id=\"T_e28a3_row12_col1\" class=\"data row12 col1\" >0.5937</td>\n",
       "      <td id=\"T_e28a3_row12_col2\" class=\"data row12 col2\" >0.0000</td>\n",
       "      <td id=\"T_e28a3_row12_col3\" class=\"data row12 col3\" >0.5858</td>\n",
       "      <td id=\"T_e28a3_row12_col4\" class=\"data row12 col4\" >0.1140</td>\n",
       "      <td id=\"T_e28a3_row12_col5\" class=\"data row12 col5\" >0.1894</td>\n",
       "      <td id=\"T_e28a3_row12_col6\" class=\"data row12 col6\" >0.0635</td>\n",
       "      <td id=\"T_e28a3_row12_col7\" class=\"data row12 col7\" >0.1015</td>\n",
       "      <td id=\"T_e28a3_row12_col8\" class=\"data row12 col8\" >0.4204</td>\n",
       "      <td id=\"T_e28a3_row12_col9\" class=\"data row12 col9\" >0.5910</td>\n",
       "      <td id=\"T_e28a3_row12_col10\" class=\"data row12 col10\" >4.5220</td>\n",
       "    </tr>\n",
       "    <tr>\n",
       "      <th id=\"T_e28a3_level0_row13\" class=\"row_heading level0 row13\" >qda</th>\n",
       "      <td id=\"T_e28a3_row13_col0\" class=\"data row13 col0\" >Quadratic Discriminant Analysis</td>\n",
       "      <td id=\"T_e28a3_row13_col1\" class=\"data row13 col1\" >0.3613</td>\n",
       "      <td id=\"T_e28a3_row13_col2\" class=\"data row13 col2\" >0.6230</td>\n",
       "      <td id=\"T_e28a3_row13_col3\" class=\"data row13 col3\" >0.7936</td>\n",
       "      <td id=\"T_e28a3_row13_col4\" class=\"data row13 col4\" >0.0935</td>\n",
       "      <td id=\"T_e28a3_row13_col5\" class=\"data row13 col5\" >0.1673</td>\n",
       "      <td id=\"T_e28a3_row13_col6\" class=\"data row13 col6\" >0.0267</td>\n",
       "      <td id=\"T_e28a3_row13_col7\" class=\"data row13 col7\" >0.0687</td>\n",
       "      <td id=\"T_e28a3_row13_col8\" class=\"data row13 col8\" >0.4716</td>\n",
       "      <td id=\"T_e28a3_row13_col9\" class=\"data row13 col9\" >0.5440</td>\n",
       "      <td id=\"T_e28a3_row13_col10\" class=\"data row13 col10\" >11.7320</td>\n",
       "    </tr>\n",
       "    <tr>\n",
       "      <th id=\"T_e28a3_level0_row14\" class=\"row_heading level0 row14\" >nb</th>\n",
       "      <td id=\"T_e28a3_row14_col0\" class=\"data row14 col0\" >Naive Bayes</td>\n",
       "      <td id=\"T_e28a3_row14_col1\" class=\"data row14 col1\" >0.1474</td>\n",
       "      <td id=\"T_e28a3_row14_col2\" class=\"data row14 col2\" >0.5745</td>\n",
       "      <td id=\"T_e28a3_row14_col3\" class=\"data row14 col3\" >0.9405</td>\n",
       "      <td id=\"T_e28a3_row14_col4\" class=\"data row14 col4\" >0.0822</td>\n",
       "      <td id=\"T_e28a3_row14_col5\" class=\"data row14 col5\" >0.1512</td>\n",
       "      <td id=\"T_e28a3_row14_col6\" class=\"data row14 col6\" >0.0032</td>\n",
       "      <td id=\"T_e28a3_row14_col7\" class=\"data row14 col7\" >0.0185</td>\n",
       "      <td id=\"T_e28a3_row14_col8\" class=\"data row14 col8\" >0.4822</td>\n",
       "      <td id=\"T_e28a3_row14_col9\" class=\"data row14 col9\" >0.4810</td>\n",
       "      <td id=\"T_e28a3_row14_col10\" class=\"data row14 col10\" >9.6890</td>\n",
       "    </tr>\n",
       "  </tbody>\n",
       "</table>\n"
      ],
      "text/plain": [
       "<pandas.io.formats.style.Styler at 0x22e462c6140>"
      ]
     },
     "metadata": {},
     "output_type": "display_data"
    },
    {
     "data": {
      "application/vnd.jupyter.widget-view+json": {
       "model_id": "",
       "version_major": 2,
       "version_minor": 0
      },
      "text/plain": [
       "Processing:   0%|          | 0/65 [00:00<?, ?it/s]"
      ]
     },
     "metadata": {},
     "output_type": "display_data"
    }
   ],
   "source": [
    "best = compare_models()"
   ]
  },
  {
   "cell_type": "code",
   "execution_count": 18,
   "id": "22715666-e570-47d6-a605-a2d265c73135",
   "metadata": {},
   "outputs": [],
   "source": [
    "results = pull()"
   ]
  },
  {
   "cell_type": "code",
   "execution_count": 19,
   "id": "bba3adcf-9585-4dcd-93c4-726cee8598ae",
   "metadata": {},
   "outputs": [],
   "source": [
    "results.to_csv(\"model_comparison_final.csv\")"
   ]
  },
  {
   "cell_type": "code",
   "execution_count": 20,
   "id": "a203e95d-c91f-4e2d-b3a3-3ba934a6b7c5",
   "metadata": {},
   "outputs": [],
   "source": [
    "mlflow.end_run()"
   ]
  }
 ],
 "metadata": {
  "kernelspec": {
   "display_name": "pycaret",
   "language": "python",
   "name": "pycaret"
  },
  "language_info": {
   "codemirror_mode": {
    "name": "ipython",
    "version": 3
   },
   "file_extension": ".py",
   "mimetype": "text/x-python",
   "name": "python",
   "nbconvert_exporter": "python",
   "pygments_lexer": "ipython3",
   "version": "3.10.11"
  }
 },
 "nbformat": 4,
 "nbformat_minor": 5
}
